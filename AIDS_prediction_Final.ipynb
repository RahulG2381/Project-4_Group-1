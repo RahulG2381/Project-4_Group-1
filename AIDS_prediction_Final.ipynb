{
 "cells": [
  {
   "cell_type": "markdown",
   "metadata": {},
   "source": [
    "## Dependencies"
   ]
  },
  {
   "cell_type": "code",
   "execution_count": 4,
   "metadata": {},
   "outputs": [],
   "source": [
    "# Import our dependencies\n",
    "from sklearn.model_selection import train_test_split\n",
    "from sklearn.preprocessing import StandardScaler\n",
    "import pandas as pd\n",
    "import seaborn as sns\n",
    "import matplotlib.pyplot as plt\n",
    "import tensorflow as tf\n",
    "import warnings\n",
    "warnings.filterwarnings(\"ignore\")"
   ]
  },
  {
   "cell_type": "markdown",
   "metadata": {},
   "source": [
    "### Connecting to PostgreSQL database"
   ]
  },
  {
   "cell_type": "code",
   "execution_count": null,
   "metadata": {},
   "outputs": [],
   "source": [
    "from sqlalchemy import create_engine\n",
    "import db_credentials"
   ]
  },
  {
   "cell_type": "code",
   "execution_count": null,
   "metadata": {},
   "outputs": [],
   "source": [
    "# Using the database credentials\n",
    "db_connection = db_credentials.db_credentials"
   ]
  },
  {
   "cell_type": "code",
   "execution_count": null,
   "metadata": {},
   "outputs": [],
   "source": [
    "# Accessing individual credentials from the dictionary of credentials\n",
    "user = db_connection['user']\n",
    "password = db_connection['password']\n",
    "host = db_connection['host']\n",
    "port = db_connection['port']\n",
    "database = db_connection['database']\n",
    "\n",
    "# Creating connection string\n",
    "connection_str = f'postgresql://{user}:{password}@{host}:{port}/{database}'\n",
    "\n",
    "# SQLAlchemy engine\n",
    "engine = create_engine(connection_str)\n",
    "\n",
    "# Test if the connection is made or not\n",
    "try:\n",
    "    with engine.connect() as connection_str:\n",
    "        print('Successfully connected to the PostgreSQL database')\n",
    "except Exception as ex:\n",
    "    print(f'Sorry failed to connect: {ex}')"
   ]
  },
  {
   "cell_type": "markdown",
   "metadata": {},
   "source": [
    "### Query data from PostgreSQL and create a DataFrame "
   ]
  },
  {
   "cell_type": "code",
   "execution_count": 5,
   "metadata": {},
   "outputs": [
    {
     "data": {
      "text/html": [
       "<div>\n",
       "<style scoped>\n",
       "    .dataframe tbody tr th:only-of-type {\n",
       "        vertical-align: middle;\n",
       "    }\n",
       "\n",
       "    .dataframe tbody tr th {\n",
       "        vertical-align: top;\n",
       "    }\n",
       "\n",
       "    .dataframe thead th {\n",
       "        text-align: right;\n",
       "    }\n",
       "</style>\n",
       "<table border=\"1\" class=\"dataframe\">\n",
       "  <thead>\n",
       "    <tr style=\"text-align: right;\">\n",
       "      <th></th>\n",
       "      <th>ID</th>\n",
       "      <th>treatment</th>\n",
       "      <th>ZDV_only_treatment</th>\n",
       "      <th>off_treatment</th>\n",
       "      <th>time</th>\n",
       "      <th>age</th>\n",
       "      <th>weight</th>\n",
       "      <th>hemophilia</th>\n",
       "      <th>homosexual_activity</th>\n",
       "      <th>drugs</th>\n",
       "      <th>...</th>\n",
       "      <th>ZDV_last_30days</th>\n",
       "      <th>prior_ART_length</th>\n",
       "      <th>ART_history</th>\n",
       "      <th>ART_history_stratified</th>\n",
       "      <th>symptom</th>\n",
       "      <th>cd4_base</th>\n",
       "      <th>cd4_20wks</th>\n",
       "      <th>cd8_base</th>\n",
       "      <th>cd8_20wks</th>\n",
       "      <th>infected</th>\n",
       "    </tr>\n",
       "  </thead>\n",
       "  <tbody>\n",
       "    <tr>\n",
       "      <th>0</th>\n",
       "      <td>0</td>\n",
       "      <td>2</td>\n",
       "      <td>1</td>\n",
       "      <td>0</td>\n",
       "      <td>948</td>\n",
       "      <td>48</td>\n",
       "      <td>89.8128</td>\n",
       "      <td>0</td>\n",
       "      <td>0</td>\n",
       "      <td>0</td>\n",
       "      <td>...</td>\n",
       "      <td>0</td>\n",
       "      <td>0</td>\n",
       "      <td>0</td>\n",
       "      <td>1</td>\n",
       "      <td>0</td>\n",
       "      <td>422</td>\n",
       "      <td>477</td>\n",
       "      <td>566</td>\n",
       "      <td>324</td>\n",
       "      <td>0</td>\n",
       "    </tr>\n",
       "    <tr>\n",
       "      <th>1</th>\n",
       "      <td>1</td>\n",
       "      <td>3</td>\n",
       "      <td>1</td>\n",
       "      <td>0</td>\n",
       "      <td>1002</td>\n",
       "      <td>61</td>\n",
       "      <td>49.4424</td>\n",
       "      <td>0</td>\n",
       "      <td>0</td>\n",
       "      <td>0</td>\n",
       "      <td>...</td>\n",
       "      <td>1</td>\n",
       "      <td>895</td>\n",
       "      <td>1</td>\n",
       "      <td>3</td>\n",
       "      <td>0</td>\n",
       "      <td>162</td>\n",
       "      <td>218</td>\n",
       "      <td>392</td>\n",
       "      <td>564</td>\n",
       "      <td>1</td>\n",
       "    </tr>\n",
       "    <tr>\n",
       "      <th>2</th>\n",
       "      <td>2</td>\n",
       "      <td>3</td>\n",
       "      <td>1</td>\n",
       "      <td>1</td>\n",
       "      <td>961</td>\n",
       "      <td>45</td>\n",
       "      <td>88.4520</td>\n",
       "      <td>0</td>\n",
       "      <td>1</td>\n",
       "      <td>1</td>\n",
       "      <td>...</td>\n",
       "      <td>1</td>\n",
       "      <td>707</td>\n",
       "      <td>1</td>\n",
       "      <td>3</td>\n",
       "      <td>0</td>\n",
       "      <td>326</td>\n",
       "      <td>274</td>\n",
       "      <td>2063</td>\n",
       "      <td>1893</td>\n",
       "      <td>0</td>\n",
       "    </tr>\n",
       "    <tr>\n",
       "      <th>3</th>\n",
       "      <td>3</td>\n",
       "      <td>3</td>\n",
       "      <td>1</td>\n",
       "      <td>0</td>\n",
       "      <td>1166</td>\n",
       "      <td>47</td>\n",
       "      <td>85.2768</td>\n",
       "      <td>0</td>\n",
       "      <td>1</td>\n",
       "      <td>0</td>\n",
       "      <td>...</td>\n",
       "      <td>1</td>\n",
       "      <td>1399</td>\n",
       "      <td>1</td>\n",
       "      <td>3</td>\n",
       "      <td>0</td>\n",
       "      <td>287</td>\n",
       "      <td>394</td>\n",
       "      <td>1590</td>\n",
       "      <td>966</td>\n",
       "      <td>0</td>\n",
       "    </tr>\n",
       "    <tr>\n",
       "      <th>4</th>\n",
       "      <td>4</td>\n",
       "      <td>0</td>\n",
       "      <td>0</td>\n",
       "      <td>0</td>\n",
       "      <td>1090</td>\n",
       "      <td>43</td>\n",
       "      <td>66.6792</td>\n",
       "      <td>0</td>\n",
       "      <td>1</td>\n",
       "      <td>0</td>\n",
       "      <td>...</td>\n",
       "      <td>1</td>\n",
       "      <td>1352</td>\n",
       "      <td>1</td>\n",
       "      <td>3</td>\n",
       "      <td>0</td>\n",
       "      <td>504</td>\n",
       "      <td>353</td>\n",
       "      <td>870</td>\n",
       "      <td>782</td>\n",
       "      <td>0</td>\n",
       "    </tr>\n",
       "  </tbody>\n",
       "</table>\n",
       "<p>5 rows × 24 columns</p>\n",
       "</div>"
      ],
      "text/plain": [
       "   ID  treatment  ZDV_only_treatment  off_treatment  time  age   weight  \\\n",
       "0   0          2                   1              0   948   48  89.8128   \n",
       "1   1          3                   1              0  1002   61  49.4424   \n",
       "2   2          3                   1              1   961   45  88.4520   \n",
       "3   3          3                   1              0  1166   47  85.2768   \n",
       "4   4          0                   0              0  1090   43  66.6792   \n",
       "\n",
       "   hemophilia  homosexual_activity  drugs  ...  ZDV_last_30days  \\\n",
       "0           0                    0      0  ...                0   \n",
       "1           0                    0      0  ...                1   \n",
       "2           0                    1      1  ...                1   \n",
       "3           0                    1      0  ...                1   \n",
       "4           0                    1      0  ...                1   \n",
       "\n",
       "   prior_ART_length  ART_history  ART_history_stratified  symptom  cd4_base  \\\n",
       "0                 0            0                       1        0       422   \n",
       "1               895            1                       3        0       162   \n",
       "2               707            1                       3        0       326   \n",
       "3              1399            1                       3        0       287   \n",
       "4              1352            1                       3        0       504   \n",
       "\n",
       "   cd4_20wks  cd8_base  cd8_20wks  infected  \n",
       "0        477       566        324         0  \n",
       "1        218       392        564         1  \n",
       "2        274      2063       1893         0  \n",
       "3        394      1590        966         0  \n",
       "4        353       870        782         0  \n",
       "\n",
       "[5 rows x 24 columns]"
      ]
     },
     "execution_count": 5,
     "metadata": {},
     "output_type": "execute_result"
    }
   ],
   "source": [
    "# Establish a connection to the PostgreSQL database (This connection allows us to execute SQL querie)\n",
    "conn = engine.connect()\n",
    "\n",
    "# Execute SQL query\n",
    "result = conn.execute('SELECT * FROM \"AIDs_Classifications\"')\n",
    "        \n",
    "# Fetch all rows from the result set\n",
    "rows = result.fetchall()\n",
    "        \n",
    "# Convert result set to DataFrame\n",
    "AIDS_df = pd.DataFrame(rows, columns=result.keys())\n",
    "        \n",
    "# Print the DataFrame\n",
    "AIDS_df.head()"
   ]
  },
  {
   "cell_type": "markdown",
   "metadata": {},
   "source": [
    "## Preprocessing"
   ]
  },
  {
   "cell_type": "code",
   "execution_count": 5,
   "metadata": {},
   "outputs": [],
   "source": [
    "# This can be used for getting the data directly from the CSV located in the Resources folder\n",
    "AIDS_df = pd.read_csv('Resources/AIDS_Classifications_cleaned.csv')"
   ]
  },
  {
   "cell_type": "code",
   "execution_count": 6,
   "metadata": {},
   "outputs": [
    {
     "data": {
      "text/html": [
       "<div>\n",
       "<style scoped>\n",
       "    .dataframe tbody tr th:only-of-type {\n",
       "        vertical-align: middle;\n",
       "    }\n",
       "\n",
       "    .dataframe tbody tr th {\n",
       "        vertical-align: top;\n",
       "    }\n",
       "\n",
       "    .dataframe thead th {\n",
       "        text-align: right;\n",
       "    }\n",
       "</style>\n",
       "<table border=\"1\" class=\"dataframe\">\n",
       "  <thead>\n",
       "    <tr style=\"text-align: right;\">\n",
       "      <th></th>\n",
       "      <th>treatment</th>\n",
       "      <th>ZDV_only_treatment</th>\n",
       "      <th>off_treatment</th>\n",
       "      <th>time</th>\n",
       "      <th>age</th>\n",
       "      <th>weight</th>\n",
       "      <th>hemophilia</th>\n",
       "      <th>drugs</th>\n",
       "      <th>race</th>\n",
       "      <th>gender</th>\n",
       "      <th>karnofsky_score</th>\n",
       "      <th>therapy_prior</th>\n",
       "      <th>ZDV_last_30days</th>\n",
       "      <th>ART_history</th>\n",
       "      <th>ART_history_stratified</th>\n",
       "      <th>symptom</th>\n",
       "      <th>cd4_base</th>\n",
       "      <th>cd4_20wks</th>\n",
       "      <th>infected</th>\n",
       "    </tr>\n",
       "  </thead>\n",
       "  <tbody>\n",
       "    <tr>\n",
       "      <th>0</th>\n",
       "      <td>2</td>\n",
       "      <td>1</td>\n",
       "      <td>0</td>\n",
       "      <td>948</td>\n",
       "      <td>48</td>\n",
       "      <td>89.8128</td>\n",
       "      <td>0</td>\n",
       "      <td>0</td>\n",
       "      <td>0</td>\n",
       "      <td>0</td>\n",
       "      <td>100</td>\n",
       "      <td>0</td>\n",
       "      <td>0</td>\n",
       "      <td>0</td>\n",
       "      <td>1</td>\n",
       "      <td>0</td>\n",
       "      <td>422</td>\n",
       "      <td>477</td>\n",
       "      <td>0</td>\n",
       "    </tr>\n",
       "    <tr>\n",
       "      <th>1</th>\n",
       "      <td>3</td>\n",
       "      <td>1</td>\n",
       "      <td>0</td>\n",
       "      <td>1002</td>\n",
       "      <td>61</td>\n",
       "      <td>49.4424</td>\n",
       "      <td>0</td>\n",
       "      <td>0</td>\n",
       "      <td>0</td>\n",
       "      <td>0</td>\n",
       "      <td>90</td>\n",
       "      <td>0</td>\n",
       "      <td>1</td>\n",
       "      <td>1</td>\n",
       "      <td>3</td>\n",
       "      <td>0</td>\n",
       "      <td>162</td>\n",
       "      <td>218</td>\n",
       "      <td>1</td>\n",
       "    </tr>\n",
       "    <tr>\n",
       "      <th>2</th>\n",
       "      <td>3</td>\n",
       "      <td>1</td>\n",
       "      <td>1</td>\n",
       "      <td>961</td>\n",
       "      <td>45</td>\n",
       "      <td>88.4520</td>\n",
       "      <td>0</td>\n",
       "      <td>1</td>\n",
       "      <td>0</td>\n",
       "      <td>1</td>\n",
       "      <td>90</td>\n",
       "      <td>0</td>\n",
       "      <td>1</td>\n",
       "      <td>1</td>\n",
       "      <td>3</td>\n",
       "      <td>0</td>\n",
       "      <td>326</td>\n",
       "      <td>274</td>\n",
       "      <td>0</td>\n",
       "    </tr>\n",
       "    <tr>\n",
       "      <th>3</th>\n",
       "      <td>3</td>\n",
       "      <td>1</td>\n",
       "      <td>0</td>\n",
       "      <td>1166</td>\n",
       "      <td>47</td>\n",
       "      <td>85.2768</td>\n",
       "      <td>0</td>\n",
       "      <td>0</td>\n",
       "      <td>0</td>\n",
       "      <td>1</td>\n",
       "      <td>100</td>\n",
       "      <td>0</td>\n",
       "      <td>1</td>\n",
       "      <td>1</td>\n",
       "      <td>3</td>\n",
       "      <td>0</td>\n",
       "      <td>287</td>\n",
       "      <td>394</td>\n",
       "      <td>0</td>\n",
       "    </tr>\n",
       "    <tr>\n",
       "      <th>4</th>\n",
       "      <td>0</td>\n",
       "      <td>0</td>\n",
       "      <td>0</td>\n",
       "      <td>1090</td>\n",
       "      <td>43</td>\n",
       "      <td>66.6792</td>\n",
       "      <td>0</td>\n",
       "      <td>0</td>\n",
       "      <td>0</td>\n",
       "      <td>1</td>\n",
       "      <td>100</td>\n",
       "      <td>0</td>\n",
       "      <td>1</td>\n",
       "      <td>1</td>\n",
       "      <td>3</td>\n",
       "      <td>0</td>\n",
       "      <td>504</td>\n",
       "      <td>353</td>\n",
       "      <td>0</td>\n",
       "    </tr>\n",
       "  </tbody>\n",
       "</table>\n",
       "</div>"
      ],
      "text/plain": [
       "   treatment  ZDV_only_treatment  off_treatment  time  age   weight  \\\n",
       "0          2                   1              0   948   48  89.8128   \n",
       "1          3                   1              0  1002   61  49.4424   \n",
       "2          3                   1              1   961   45  88.4520   \n",
       "3          3                   1              0  1166   47  85.2768   \n",
       "4          0                   0              0  1090   43  66.6792   \n",
       "\n",
       "   hemophilia  drugs  race  gender  karnofsky_score  therapy_prior  \\\n",
       "0           0      0     0       0              100              0   \n",
       "1           0      0     0       0               90              0   \n",
       "2           0      1     0       1               90              0   \n",
       "3           0      0     0       1              100              0   \n",
       "4           0      0     0       1              100              0   \n",
       "\n",
       "   ZDV_last_30days  ART_history  ART_history_stratified  symptom  cd4_base  \\\n",
       "0                0            0                       1        0       422   \n",
       "1                1            1                       3        0       162   \n",
       "2                1            1                       3        0       326   \n",
       "3                1            1                       3        0       287   \n",
       "4                1            1                       3        0       504   \n",
       "\n",
       "   cd4_20wks  infected  \n",
       "0        477         0  \n",
       "1        218         1  \n",
       "2        274         0  \n",
       "3        394         0  \n",
       "4        353         0  "
      ]
     },
     "execution_count": 6,
     "metadata": {},
     "output_type": "execute_result"
    }
   ],
   "source": [
    "# Drop the non-benificial columns based on the data exploration \n",
    "AIDS_df = AIDS_df.drop(['ID', 'cd8_base', 'cd8_20wks', 'homosexual_activity','prior_ART_length' ], axis = 1)\n",
    "AIDS_df.head()"
   ]
  },
  {
   "cell_type": "code",
   "execution_count": 7,
   "metadata": {},
   "outputs": [
    {
     "data": {
      "text/plain": [
       "treatment                   4\n",
       "ZDV_only_treatment          2\n",
       "off_treatment               2\n",
       "time                      713\n",
       "age                        59\n",
       "weight                    667\n",
       "hemophilia                  2\n",
       "drugs                       2\n",
       "race                        2\n",
       "gender                      2\n",
       "karnofsky_score             4\n",
       "therapy_prior               2\n",
       "ZDV_last_30days             2\n",
       "ART_history                 2\n",
       "ART_history_stratified      3\n",
       "symptom                     2\n",
       "cd4_base                  484\n",
       "cd4_20wks                 570\n",
       "infected                    2\n",
       "dtype: int64"
      ]
     },
     "execution_count": 7,
     "metadata": {},
     "output_type": "execute_result"
    }
   ],
   "source": [
    "# Determine the number of unique values in each column.\n",
    "AIDS_df.nunique()"
   ]
  },
  {
   "cell_type": "code",
   "execution_count": 8,
   "metadata": {},
   "outputs": [
    {
     "name": "stdout",
     "output_type": "stream",
     "text": [
      "<class 'pandas.core.frame.DataFrame'>\n",
      "RangeIndex: 2139 entries, 0 to 2138\n",
      "Data columns (total 19 columns):\n",
      " #   Column                  Non-Null Count  Dtype  \n",
      "---  ------                  --------------  -----  \n",
      " 0   treatment               2139 non-null   int64  \n",
      " 1   ZDV_only_treatment      2139 non-null   int64  \n",
      " 2   off_treatment           2139 non-null   int64  \n",
      " 3   time                    2139 non-null   int64  \n",
      " 4   age                     2139 non-null   int64  \n",
      " 5   weight                  2139 non-null   float64\n",
      " 6   hemophilia              2139 non-null   int64  \n",
      " 7   drugs                   2139 non-null   int64  \n",
      " 8   race                    2139 non-null   int64  \n",
      " 9   gender                  2139 non-null   int64  \n",
      " 10  karnofsky_score         2139 non-null   int64  \n",
      " 11  therapy_prior           2139 non-null   int64  \n",
      " 12  ZDV_last_30days         2139 non-null   int64  \n",
      " 13  ART_history             2139 non-null   int64  \n",
      " 14  ART_history_stratified  2139 non-null   int64  \n",
      " 15  symptom                 2139 non-null   int64  \n",
      " 16  cd4_base                2139 non-null   int64  \n",
      " 17  cd4_20wks               2139 non-null   int64  \n",
      " 18  infected                2139 non-null   int64  \n",
      "dtypes: float64(1), int64(18)\n",
      "memory usage: 317.6 KB\n",
      "None\n"
     ]
    }
   ],
   "source": [
    "# Print DataFrame structure\n",
    "print(AIDS_df.info())"
   ]
  },
  {
   "cell_type": "code",
   "execution_count": 9,
   "metadata": {},
   "outputs": [
    {
     "data": {
      "text/plain": [
       "infected\n",
       "0    1618\n",
       "1     521\n",
       "Name: count, dtype: int64"
      ]
     },
     "execution_count": 9,
     "metadata": {},
     "output_type": "execute_result"
    }
   ],
   "source": [
    "# There are significantly more '0's than '1's\n",
    "infected_count = AIDS_df[\"infected\"].value_counts()\n",
    "infected_count"
   ]
  },
  {
   "cell_type": "markdown",
   "metadata": {},
   "source": [
    "### Handling class imbalance\n",
    "The above code indicates that our classes are very imbalanced. Handling class imbalance is crucial in machine learning when one class has significantly more samples than the other. \n",
    "\n",
    "To handle this issue we have used the following strategies:\n",
    "1. Oversampling Method: SMOTE (Synthetic Minority Over-sampling Technique) is an oversampling method used to address the problem of class imbalance in machine learning. \n",
    "2. Algorithmic techniques: adjust the class weights in the model to penalize misclassifications of the minority class more than the majority class. This can be achieved by setting the class_weight parameter to “balanced” in some models such as Logistic Regression and SVM \n",
    "3. Using ensemble methods like Random Forests which inherently handle class imbalance by combining multiple weak learners.\n",
    "4. Evaluation Metrics: Use appropriate evaluation metrics that are less sensitive to class imbalance, such as precision, and recall rather than accuracy.\n",
    "\n"
   ]
  },
  {
   "cell_type": "markdown",
   "metadata": {},
   "source": [
    "# SMOTE (Synthetic Minority Oversampling Technique)"
   ]
  },
  {
   "cell_type": "code",
   "execution_count": 10,
   "metadata": {},
   "outputs": [],
   "source": [
    "# Split our preprocessed data into our features and target arrays\n",
    "y = AIDS_df['infected'].ravel()\n",
    "x = AIDS_df.drop(columns='infected')\n",
    "\n",
    "# Define the train-test split size\n",
    "test_size = 0.2\n",
    "# Split the preprocessed data into a training and testing dataset\n",
    "X_train, X_test, y_train, y_test = train_test_split(x, y, test_size=test_size, random_state=1,stratify=y)\n"
   ]
  },
  {
   "cell_type": "code",
   "execution_count": 11,
   "metadata": {},
   "outputs": [],
   "source": [
    "from imblearn.over_sampling import SMOTE\n",
    "sm = SMOTE(random_state=42) \n",
    "X_train_res, y_train_res = sm.fit_resample(X_train, y_train)\n"
   ]
  },
  {
   "cell_type": "code",
   "execution_count": 12,
   "metadata": {},
   "outputs": [],
   "source": [
    "# Convert y_train_res back to a Pandas Series for value_counts()\n",
    "y_train_res_series = pd.Series(y_train_res)"
   ]
  },
  {
   "cell_type": "code",
   "execution_count": 17,
   "metadata": {},
   "outputs": [
    {
     "name": "stdout",
     "output_type": "stream",
     "text": [
      "1    1294\n",
      "0    1294\n",
      "Name: count, dtype: int64\n"
     ]
    }
   ],
   "source": [
    "\n",
    "print(y_train_res_series.value_counts())\n"
   ]
  },
  {
   "cell_type": "code",
   "execution_count": 26,
   "metadata": {},
   "outputs": [
    {
     "name": "stdout",
     "output_type": "stream",
     "text": [
      "Feature=> train: (2588, 18) - test: (428, 18)\n",
      "Label=> train: (2588,) - test: (428,)\n"
     ]
    }
   ],
   "source": [
    "# print the number and shape of train and test data\n",
    "print(f\"Feature=> train: {X_train_res.shape} - test: {X_test.shape}\")\n",
    "print(f\"Label=> train: {y_train_res.shape} - test: {y_test.shape}\")"
   ]
  },
  {
   "cell_type": "code",
   "execution_count": 16,
   "metadata": {},
   "outputs": [],
   "source": [
    "# Create a StandardScaler instance\n",
    "scaler = StandardScaler()\n",
    "\n",
    "# Fit the StandardScaler\n",
    "X_scaler = scaler.fit(X_train_res)\n",
    "\n",
    "# Scale the training and testing data\n",
    "X_train_scaled = X_scaler.transform(X_train_res)\n",
    "X_test_scaled = X_scaler.transform(X_test)"
   ]
  },
  {
   "cell_type": "markdown",
   "metadata": {},
   "source": [
    "## Model 1: Logistic Regression + Model 2: K-NearestNeighbors (KNN) + Model 3: Support Vector Machine (SVM) "
   ]
  },
  {
   "cell_type": "code",
   "execution_count": 80,
   "metadata": {},
   "outputs": [
    {
     "name": "stdout",
     "output_type": "stream",
     "text": [
      "Logistic Regression:\n",
      "Accuracy (Train): 0.8597372488408037\n",
      "Accuracy (Test): 0.8387850467289719\n",
      "Precision (Train): 0.8605919781713736\n",
      "Recall (Train): 0.8597372488408037\n",
      "F1-score (Train): 0.8596540815907316\n",
      "Support (Train): None\n",
      "Precision (Test): 0.7806916577288304\n",
      "Recall (Test): 0.8184354226020893\n",
      "F1-score (Test): 0.7954493506493506\n",
      "Support (Test): None\n",
      "Classification Report:\n",
      "              precision    recall  f1-score   support\n",
      "\n",
      "not infected       0.92      0.86      0.89       324\n",
      "    infected       0.64      0.78      0.70       104\n",
      "\n",
      "    accuracy                           0.84       428\n",
      "   macro avg       0.78      0.82      0.80       428\n",
      "weighted avg       0.85      0.84      0.84       428\n",
      "\n",
      "---------------------------------------\n",
      "K-Nearest Neighbors:\n",
      "Accuracy (Train): 0.9447449768160742\n",
      "Accuracy (Test): 0.8247663551401869\n",
      "Precision (Train): 0.9451493351425506\n",
      "Recall (Train): 0.9447449768160742\n",
      "F1-score (Train): 0.9447324260258357\n",
      "Support (Train): None\n",
      "Precision (Test): 0.7623806804275108\n",
      "Recall (Test): 0.7863247863247864\n",
      "F1-score (Test): 0.7725968588612842\n",
      "Support (Test): None\n",
      "Classification Report:\n",
      "              precision    recall  f1-score   support\n",
      "\n",
      "not infected       0.90      0.86      0.88       324\n",
      "    infected       0.62      0.71      0.66       104\n",
      "\n",
      "    accuracy                           0.82       428\n",
      "   macro avg       0.76      0.79      0.77       428\n",
      "weighted avg       0.83      0.82      0.83       428\n",
      "\n",
      "---------------------------------------\n",
      "Support Vector Machine:\n",
      "Accuracy (Train): 0.8636012364760433\n",
      "Accuracy (Test): 0.8364485981308412\n",
      "Precision (Train): 0.8644651465727847\n",
      "Recall (Train): 0.8636012364760433\n",
      "F1-score (Train): 0.8635203603347887\n",
      "Support (Train): None\n",
      "Precision (Test): 0.7774299660441426\n",
      "Recall (Test): 0.8103632478632479\n",
      "F1-score (Test): 0.7907587439937424\n",
      "Support (Test): None\n",
      "Classification Report:\n",
      "              precision    recall  f1-score   support\n",
      "\n",
      "not infected       0.92      0.86      0.89       324\n",
      "    infected       0.64      0.76      0.69       104\n",
      "\n",
      "    accuracy                           0.84       428\n",
      "   macro avg       0.78      0.81      0.79       428\n",
      "weighted avg       0.85      0.84      0.84       428\n",
      "\n",
      "---------------------------------------\n"
     ]
    }
   ],
   "source": [
    "\n",
    "from sklearn.linear_model import LogisticRegression\n",
    "from sklearn.neighbors import KNeighborsClassifier\n",
    "from sklearn.svm import SVC\n",
    "from sklearn.metrics import classification_report, precision_recall_fscore_support\n",
    "\n",
    "# Define a function to evaluate models\n",
    "def evaluate_model(model, X_train_scaled, X_test_scaled, y_train, y_test):\n",
    "    # Train the model using the training data\n",
    "    model.fit(X_train_scaled, y_train)\n",
    "    \n",
    "    # Create predictions using the training and testing data\n",
    "    y_pred_train = model.predict(X_train_scaled)\n",
    "    y_pred_test = model.predict(X_test_scaled)\n",
    "    \n",
    "    # Calculate accuracy\n",
    "    acc_train = model.score(X_train_scaled, y_train)\n",
    "    acc_test = model.score(X_test_scaled, y_test)\n",
    "    \n",
    "    # Calculate precision, recall, F1-score, and support\n",
    "    p_train, r_train, f1_train, support_train = precision_recall_fscore_support(y_train, y_pred_train, average='macro')\n",
    "    p_test, r_test, f1_test, support_test = precision_recall_fscore_support(y_test, y_pred_test, average='macro')\n",
    "    \n",
    "    # Generate classification report\n",
    "    report = classification_report(y_test, y_pred_test, target_names=[\"not infected\", \"infected\"])\n",
    "    \n",
    "    return acc_train, acc_test, p_train, r_train, f1_train, support_train, p_test, r_test, f1_test, support_test, report\n",
    "\n",
    "# Perform an 80:20 train-test split\n",
    "X_train_split, X_test_split, y_train_split, y_test_split = train_test_split(x, y, test_size=0.2, random_state=42, stratify=y)\n",
    "\n",
    "# Apply SMOTE to the training data\n",
    "X_train_res, y_train_res = sm.fit_resample(X_train_split, y_train_split)\n",
    "\n",
    "# Standardize the features\n",
    "X_train_scaled = scaler.fit_transform(X_train_res)\n",
    "X_test_scaled = scaler.transform(X_test_split)\n",
    "\n",
    "# Logistic Regression\n",
    "logistic_reg = LogisticRegression(solver='lbfgs', max_iter=200, random_state=1, class_weight=\"balanced\")\n",
    "acc_train_logistic_reg, acc_test_logistic_reg, p_train_logistic_reg, r_train_logistic_reg, f1_train_logistic_reg, support_train_logistic_reg, p_test_logistic_reg, r_test_logistic_reg, f1_test_logistic_reg, support_test_logistic_reg, report_logistic_reg = evaluate_model(logistic_reg, X_train_scaled, X_test_scaled, y_train_res, y_test_split)\n",
    "print(\"Logistic Regression:\")\n",
    "print(f\"Accuracy (Train): {acc_train_logistic_reg}\")\n",
    "print(f\"Accuracy (Test): {acc_test_logistic_reg}\")\n",
    "print(f\"Precision (Train): {p_train_logistic_reg}\")\n",
    "print(f\"Recall (Train): {r_train_logistic_reg}\")\n",
    "print(f\"F1-score (Train): {f1_train_logistic_reg}\")\n",
    "print(f\"Support (Train): {support_train_logistic_reg}\")\n",
    "print(f\"Precision (Test): {p_test_logistic_reg}\")\n",
    "print(f\"Recall (Test): {r_test_logistic_reg}\")\n",
    "print(f\"F1-score (Test): {f1_test_logistic_reg}\")\n",
    "print(f\"Support (Test): {support_test_logistic_reg}\")\n",
    "print(\"Classification Report:\")\n",
    "print(report_logistic_reg)\n",
    "print(\"---------------------------------------\")\n",
    "\n",
    "# K-Nearest Neighbors\n",
    "knn = KNeighborsClassifier(n_neighbors=3, algorithm='kd_tree')\n",
    "acc_train_knn, acc_test_knn, p_train_knn, r_train_knn, f1_train_knn, support_train_knn, p_test_knn, r_test_knn, f1_test_knn, support_test_knn, report_knn = evaluate_model(knn, X_train_scaled, X_test_scaled, y_train_res, y_test_split)\n",
    "print(\"K-Nearest Neighbors:\")\n",
    "print(f\"Accuracy (Train): {acc_train_knn}\")\n",
    "print(f\"Accuracy (Test): {acc_test_knn}\")\n",
    "print(f\"Precision (Train): {p_train_knn}\")\n",
    "print(f\"Recall (Train): {r_train_knn}\")\n",
    "print(f\"F1-score (Train): {f1_train_knn}\")\n",
    "print(f\"Support (Train): {support_train_knn}\")\n",
    "print(f\"Precision (Test): {p_test_knn}\")\n",
    "print(f\"Recall (Test): {r_test_knn}\")\n",
    "print(f\"F1-score (Test): {f1_test_knn}\")\n",
    "print(f\"Support (Test): {support_test_knn}\")\n",
    "print(\"Classification Report:\")\n",
    "print(report_knn)\n",
    "print(\"---------------------------------------\")\n",
    "\n",
    "# Support Vector Machine\n",
    "svm = SVC(kernel='linear', class_weight=\"balanced\")\n",
    "acc_train_svm, acc_test_svm, p_train_svm, r_train_svm, f1_train_svm, support_train_svm, p_test_svm, r_test_svm, f1_test_svm, support_test_svm, report_svm = evaluate_model(svm, X_train_scaled, X_test_scaled, y_train_res, y_test_split)\n",
    "print(\"Support Vector Machine:\")\n",
    "print(f\"Accuracy (Train): {acc_train_svm}\")\n",
    "print(f\"Accuracy (Test): {acc_test_svm}\")\n",
    "print(f\"Precision (Train): {p_train_svm}\")\n",
    "print(f\"Recall (Train): {r_train_svm}\")\n",
    "print(f\"F1-score (Train): {f1_train_svm}\")\n",
    "print(f\"Support (Train): {support_train_svm}\")\n",
    "print(f\"Precision (Test): {p_test_svm}\")\n",
    "print(f\"Recall (Test): {r_test_svm}\")\n",
    "print(f\"F1-score (Test): {f1_test_svm}\")\n",
    "print(f\"Support (Test): {support_test_svm}\")\n",
    "print(\"Classification Report:\")\n",
    "print(report_svm)\n",
    "print(\"---------------------------------------\")"
   ]
  },
  {
   "cell_type": "markdown",
   "metadata": {},
   "source": [
    "Comparing the results for three available distributions of the dataset indicates that all three models have a better performance when train_test split ratio distribution is considered 70:30 (or 0.7).\n",
    "We have used the results for this distribution in the final comparison.\n"
   ]
  },
  {
   "cell_type": "code",
   "execution_count": 21,
   "metadata": {},
   "outputs": [
    {
     "name": "stdout",
     "output_type": "stream",
     "text": [
      "    Actual  Predicted\n",
      "0        0          0\n",
      "1        1          0\n",
      "2        0          1\n",
      "3        0          0\n",
      "4        0          1\n",
      "..     ...        ...\n",
      "95       0          0\n",
      "96       0          0\n",
      "97       0          0\n",
      "98       0          1\n",
      "99       0          0\n",
      "\n",
      "[100 rows x 2 columns]\n"
     ]
    }
   ],
   "source": [
    "# SVM modelcompare the actual and predicated dataset\n",
    "# Select a subset of your dataset (e.g., first 100 samples)\n",
    "subset_X = pd.DataFrame(X_test_scaled[:100])\n",
    "subset_y_actual = pd.Series(y_test[:100])\n",
    "\n",
    "# Predictions on the subset\n",
    "subset_y_pred = svm.predict(subset_X)\n",
    "\n",
    "# Comparison\n",
    "comparison_df = pd.DataFrame({'Actual': subset_y_actual, 'Predicted': subset_y_pred})\n",
    "\n",
    "print(comparison_df)"
   ]
  },
  {
   "cell_type": "markdown",
   "metadata": {},
   "source": [
    "## Methodology:\n",
    "We utilized three traditional classification algorithms: Logistic Regression, K-Nearest Neighbors (KNN), and Support Vector Machine (SVM).  \n",
    "The dataset was split into training and testing sets using : 80:20  \n",
    "Evaluation metrics included accuracy, precision, recall, F1-score, and support.  \n",
    "\n",
    "## Logistic Regression:  \n",
    "Achieved an accuracy of approximately 83% across all train-test split ratios.  \n",
    "Displayed balanced precision and recall for the \"not infected\" class, indicating robust performance in correctly identifying individuals not infected with the AIDS virus.  \n",
    "However, precision and recall for the \"infected\" class were relatively lower, suggesting challenges in correctly classifying individuals infected with the virus.  \n",
    "\n",
    "## K-Nearest Neighbors (KNN):  \n",
    "Produced an accuracy is 78%.  \n",
    "Demonstrated relatively lower precision and recall for both classes compared to Logistic Regression, indicating a less optimal performance in classification.  \n",
    "\n",
    "## Support Vector Machine (SVM):  \n",
    "Attained an accuracy close to Logistic Regression, from 84%.  \n",
    "Showed balanced precision and recall for both classes, indicating effective classification performance.  \n",
    "After evaluating the performance of the SVM model with subset of the data, the model seems to perform reasonably well on the subset  of data, correctly predicting the outcomes for many samples. \n",
    "\n"
   ]
  },
  {
   "cell_type": "markdown",
   "metadata": {},
   "source": [
    "## Model 5: RandomForest Model"
   ]
  },
  {
   "cell_type": "code",
   "execution_count": null,
   "metadata": {},
   "outputs": [],
   "source": [
    "import numpy as np\n",
    "import plotly.express as px\n",
    "from sklearn.ensemble import RandomForestClassifier\n",
    "from sklearn.compose import ColumnTransformer\n",
    "from sklearn.preprocessing import FunctionTransformer\n",
    "from sklearn.pipeline import FeatureUnion\n",
    "from sklearn.model_selection import train_test_split\n",
    "from sklearn.ensemble import RandomForestClassifier\n",
    "from sklearn.metrics import accuracy_score, precision_score, recall_score, f1_score, classification_report, confusion_matrix\n"
   ]
  },
  {
   "cell_type": "markdown",
   "metadata": {},
   "source": [
    "### Create rf_df DataFrame and Add Columns 'cd4_propdif' and 'cd4_numerical_change'"
   ]
  },
  {
   "cell_type": "code",
   "execution_count": 71,
   "metadata": {},
   "outputs": [
    {
     "data": {
      "text/html": [
       "<div>\n",
       "<style scoped>\n",
       "    .dataframe tbody tr th:only-of-type {\n",
       "        vertical-align: middle;\n",
       "    }\n",
       "\n",
       "    .dataframe tbody tr th {\n",
       "        vertical-align: top;\n",
       "    }\n",
       "\n",
       "    .dataframe thead th {\n",
       "        text-align: right;\n",
       "    }\n",
       "</style>\n",
       "<table border=\"1\" class=\"dataframe\">\n",
       "  <thead>\n",
       "    <tr style=\"text-align: right;\">\n",
       "      <th></th>\n",
       "      <th>time</th>\n",
       "      <th>age</th>\n",
       "      <th>weight</th>\n",
       "      <th>cd4_base</th>\n",
       "      <th>cd4_20wks</th>\n",
       "      <th>cd4_propdif</th>\n",
       "      <th>cd4_numerical_change</th>\n",
       "    </tr>\n",
       "  </thead>\n",
       "  <tbody>\n",
       "    <tr>\n",
       "      <th>0</th>\n",
       "      <td>948</td>\n",
       "      <td>48</td>\n",
       "      <td>89.8128</td>\n",
       "      <td>422</td>\n",
       "      <td>477</td>\n",
       "      <td>0.130332</td>\n",
       "      <td>55</td>\n",
       "    </tr>\n",
       "    <tr>\n",
       "      <th>1</th>\n",
       "      <td>1002</td>\n",
       "      <td>61</td>\n",
       "      <td>49.4424</td>\n",
       "      <td>162</td>\n",
       "      <td>218</td>\n",
       "      <td>0.345679</td>\n",
       "      <td>56</td>\n",
       "    </tr>\n",
       "    <tr>\n",
       "      <th>2</th>\n",
       "      <td>961</td>\n",
       "      <td>45</td>\n",
       "      <td>88.4520</td>\n",
       "      <td>326</td>\n",
       "      <td>274</td>\n",
       "      <td>-0.159509</td>\n",
       "      <td>-52</td>\n",
       "    </tr>\n",
       "    <tr>\n",
       "      <th>3</th>\n",
       "      <td>1166</td>\n",
       "      <td>47</td>\n",
       "      <td>85.2768</td>\n",
       "      <td>287</td>\n",
       "      <td>394</td>\n",
       "      <td>0.372822</td>\n",
       "      <td>107</td>\n",
       "    </tr>\n",
       "    <tr>\n",
       "      <th>4</th>\n",
       "      <td>1090</td>\n",
       "      <td>43</td>\n",
       "      <td>66.6792</td>\n",
       "      <td>504</td>\n",
       "      <td>353</td>\n",
       "      <td>-0.299603</td>\n",
       "      <td>-151</td>\n",
       "    </tr>\n",
       "  </tbody>\n",
       "</table>\n",
       "</div>"
      ],
      "text/plain": [
       "   time  age   weight  cd4_base  cd4_20wks  cd4_propdif  cd4_numerical_change\n",
       "0   948   48  89.8128       422        477     0.130332                    55\n",
       "1  1002   61  49.4424       162        218     0.345679                    56\n",
       "2   961   45  88.4520       326        274    -0.159509                   -52\n",
       "3  1166   47  85.2768       287        394     0.372822                   107\n",
       "4  1090   43  66.6792       504        353    -0.299603                  -151"
      ]
     },
     "execution_count": 71,
     "metadata": {},
     "output_type": "execute_result"
    }
   ],
   "source": [
    "### Create rf_df DataFrame and Add Columns 'cd4_propdif' and 'cd4_numerical_change'\n",
    "\n",
    "# Calculate proportional differences in CD4 count\n",
    "rf_df = AIDS_df\n",
    "rf_df['cd4_propdif'] = (AIDS_df['cd4_20wks'] - AIDS_df['cd4_base']) / AIDS_df['cd4_base']\n",
    "rf_df['cd4_numerical_change'] = (AIDS_df['cd4_20wks'] - AIDS_df['cd4_base'])\n",
    "\n",
    "# Display the DataFrame to verify the changes\n",
    "\n",
    "selected_columns = rf_df[['time', 'age', 'weight', 'cd4_base', 'cd4_20wks', 'cd4_propdif', 'cd4_numerical_change']]\n",
    "\n",
    "#print\n",
    "selected_columns.head()"
   ]
  },
  {
   "cell_type": "code",
   "execution_count": 72,
   "metadata": {},
   "outputs": [
    {
     "name": "stdout",
     "output_type": "stream",
     "text": [
      "<class 'pandas.core.frame.DataFrame'>\n",
      "RangeIndex: 2139 entries, 0 to 2138\n",
      "Data columns (total 21 columns):\n",
      " #   Column                  Non-Null Count  Dtype  \n",
      "---  ------                  --------------  -----  \n",
      " 0   treatment               2139 non-null   int64  \n",
      " 1   ZDV_only_treatment      2139 non-null   int64  \n",
      " 2   off_treatment           2139 non-null   int64  \n",
      " 3   time                    2139 non-null   int64  \n",
      " 4   age                     2139 non-null   int64  \n",
      " 5   weight                  2139 non-null   float64\n",
      " 6   hemophilia              2139 non-null   int64  \n",
      " 7   drugs                   2139 non-null   int64  \n",
      " 8   race                    2139 non-null   int64  \n",
      " 9   gender                  2139 non-null   int64  \n",
      " 10  karnofsky_score         2139 non-null   int64  \n",
      " 11  therapy_prior           2139 non-null   int64  \n",
      " 12  ZDV_last_30days         2139 non-null   int64  \n",
      " 13  ART_history             2139 non-null   int64  \n",
      " 14  ART_history_stratified  2139 non-null   int64  \n",
      " 15  symptom                 2139 non-null   int64  \n",
      " 16  cd4_base                2139 non-null   int64  \n",
      " 17  cd4_20wks               2139 non-null   int64  \n",
      " 18  infected                2139 non-null   int64  \n",
      " 19  cd4_propdif             2139 non-null   float64\n",
      " 20  cd4_numerical_change    2139 non-null   int64  \n",
      "dtypes: float64(2), int64(19)\n",
      "memory usage: 351.1 KB\n"
     ]
    }
   ],
   "source": [
    "rf_df.info()"
   ]
  },
  {
   "cell_type": "markdown",
   "metadata": {},
   "source": [
    "### DefineFeatures and Target Columns, Train, Make Predictions"
   ]
  },
  {
   "cell_type": "code",
   "execution_count": 73,
   "metadata": {},
   "outputs": [
    {
     "name": "stdout",
     "output_type": "stream",
     "text": [
      "              precision    recall  f1-score   support\n",
      "\n",
      "           0       0.92      0.93      0.92       327\n",
      "           1       0.76      0.73      0.75       101\n",
      "\n",
      "    accuracy                           0.88       428\n",
      "   macro avg       0.84      0.83      0.84       428\n",
      "weighted avg       0.88      0.88      0.88       428\n",
      "\n"
     ]
    }
   ],
   "source": [
    "# Define Features and Target Columns\n",
    "feature_columns = ['treatment', 'ZDV_only_treatment', 'off_treatment', 'time', 'age',\n",
    "                   'weight', 'hemophilia', 'drugs', 'race',\n",
    "                   'gender', 'karnofsky_score', 'therapy_prior', 'ZDV_last_30days',\n",
    "                 'ART_history', 'ART_history_stratified', 'symptom',\n",
    "                   'cd4_base', 'cd4_20wks']\n",
    "target = 'infected'\n",
    "\n",
    "# Split the data into features and target\n",
    "X = rf_df[feature_columns]\n",
    "y = rf_df[target]\n",
    "\n",
    "# Split the data into training and testing sets\n",
    "X_train, X_test, y_train, y_test = train_test_split(X, y, test_size=0.2, random_state=42)\n",
    "\n",
    "# Apply SMOTE to the training data\n",
    "smote = SMOTE(random_state=42)\n",
    "X_train_res, y_train_res = smote.fit_resample(X_train, y_train)\n",
    "\n",
    "# Initialize RandomForest Classifier\n",
    "random_forest_classifier = RandomForestClassifier(random_state=42)\n",
    "\n",
    "# Train the Model\n",
    "random_forest_classifier.fit(X_train_res, y_train_res)\n",
    "\n",
    "# Make Predictions\n",
    "predictions = random_forest_classifier.predict(X_test)\n",
    "\n",
    "# Print Classification Report\n",
    "print(classification_report(y_test, predictions))\n"
   ]
  },
  {
   "cell_type": "markdown",
   "metadata": {},
   "source": [
    "### Generate Model Statistics"
   ]
  },
  {
   "cell_type": "code",
   "execution_count": 74,
   "metadata": {},
   "outputs": [
    {
     "name": "stdout",
     "output_type": "stream",
     "text": [
      "Accuracy: 0.883177570093458\n",
      "Precision: 0.7628865979381443\n",
      "Recall: 0.7326732673267327\n",
      "F1-score: 0.7474747474747475\n",
      "\n",
      "Classification Report:\n",
      "              precision    recall  f1-score   support\n",
      "\n",
      "           0       0.92      0.93      0.92       327\n",
      "           1       0.76      0.73      0.75       101\n",
      "\n",
      "    accuracy                           0.88       428\n",
      "   macro avg       0.84      0.83      0.84       428\n",
      "weighted avg       0.88      0.88      0.88       428\n",
      "\n",
      "\n",
      "Confusion Matrix:\n",
      "[[304  23]\n",
      " [ 27  74]]\n"
     ]
    }
   ],
   "source": [
    "# Calculate Accuracy\n",
    "accuracy = accuracy_score(y_test, predictions)\n",
    "print(\"Accuracy:\", accuracy)\n",
    "\n",
    "# Calculate Precision\n",
    "precision = precision_score(y_test, predictions)\n",
    "print(\"Precision:\", precision)\n",
    "\n",
    "# Calculate Recall\n",
    "recall = recall_score(y_test, predictions)\n",
    "print(\"Recall:\", recall)\n",
    "\n",
    "# Calculate F1-score\n",
    "f1 = f1_score(y_test, predictions)\n",
    "print(\"F1-score:\", f1)\n",
    "\n",
    "# Generate Classification Report\n",
    "print(\"\\nClassification Report:\")\n",
    "print(classification_report(y_test, predictions))\n",
    "\n",
    "# Generate Confusion Matrix\n",
    "print(\"\\nConfusion Matrix:\")\n",
    "print(confusion_matrix(y_test, predictions))"
   ]
  },
  {
   "cell_type": "markdown",
   "metadata": {},
   "source": [
    "### Prediction Error Plot"
   ]
  },
  {
   "cell_type": "code",
   "execution_count": 75,
   "metadata": {},
   "outputs": [
    {
     "data": {
      "image/png": "[encoded data removed]",
      "text/plain": [
       "<Figure size 1000x600 with 1 Axes>"
      ]
     },
     "metadata": {},
     "output_type": "display_data"
    }
   ],
   "source": [
    "# Calculate prediction probabilities\n",
    "probabilities = random_forest_classifier.predict_proba(X_test)\n",
    "predicted_probabilities = probabilities[:, 1]  # Probability of class 1 (positive class)\n",
    "\n",
    "# Calculate prediction errors\n",
    "prediction_errors = np.abs(y_test - predicted_probabilities)\n",
    "\n",
    "# Plot prediction errors\n",
    "plt.figure(figsize=(10, 6))\n",
    "plt.scatter(range(len(y_test)), prediction_errors, color='blue', alpha=0.5)\n",
    "plt.title('Prediction Error Plot')\n",
    "plt.xlabel('Instance Index')\n",
    "plt.ylabel('Prediction Error')\n",
    "plt.show()"
   ]
  },
  {
   "cell_type": "markdown",
   "metadata": {},
   "source": [
    "### Extract and Visualise Feature Importance in the Model"
   ]
  },
  {
   "cell_type": "code",
   "execution_count": 76,
   "metadata": {},
   "outputs": [
    {
     "data": {
      "image/png": "[encoded data removed]",
      "text/plain": [
       "<Figure size 1000x1000 with 1 Axes>"
      ]
     },
     "metadata": {},
     "output_type": "display_data"
    }
   ],
   "source": [
    "# Extract feature importances\n",
    "feature_importances = random_forest_classifier.feature_importances_\n",
    "# Create a DataFrame to store feature importances\n",
    "importance_df = pd.DataFrame({\"Feature\": feature_columns, \"Importance\": feature_importances})\n",
    "\n",
    "# Sort the DataFrame by importance\n",
    "importance_df = importance_df.sort_values(by=\"Importance\", ascending=False)\n",
    "\n",
    "# Plot feature importances\n",
    "plt.figure(figsize=(10, 10))\n",
    "plt.barh(importance_df[\"Feature\"], importance_df[\"Importance\"])\n",
    "plt.xlabel(\"Importance\")\n",
    "plt.ylabel(\"Feature\")\n",
    "plt.title(\"Feature Importances\")\n",
    "plt.show()"
   ]
  },
  {
   "cell_type": "markdown",
   "metadata": {},
   "source": [
    "## Model 4_1: Deep Neural Networks(DNN)"
   ]
  },
  {
   "cell_type": "code",
   "execution_count": 22,
   "metadata": {},
   "outputs": [],
   "source": [
    "# Define a function to calculate accuracy_score, precision_score, and recall_score for different algorithms\n",
    "from sklearn.metrics import accuracy_score, precision_score, recall_score\n",
    "def calculate_metrics(y_train, y_test, y_pred_train, y_pred_test):\n",
    "    acc_train = round(accuracy_score(y_true=y_train, y_pred=y_pred_train), 2)\n",
    "    acc_test = round(accuracy_score(y_true=y_test, y_pred=y_pred_test), 2)\n",
    "\n",
    "    p = round(precision_score(y_true=y_test, y_pred=y_pred_test), 2)\n",
    "    r = round(recall_score(y_true=y_test, y_pred=y_pred_test), 2)\n",
    "\n",
    "    print(f\"acc train: {acc_train}, acc test: {acc_test}, precision: {p}, recall: {r}\")\n",
    "\n",
    "    return acc_train, acc_test, p, r"
   ]
  },
  {
   "cell_type": "markdown",
   "metadata": {},
   "source": [
    "#### Compile, Train and Evaluate the Model"
   ]
  },
  {
   "cell_type": "code",
   "execution_count": 26,
   "metadata": {},
   "outputs": [
    {
     "data": {
      "text/html": [
       "<pre style=\"white-space:pre;overflow-x:auto;line-height:normal;font-family:Menlo,'DejaVu Sans Mono',consolas,'Courier New',monospace\"><span style=\"font-weight: bold\">Model: \"sequential_1\"</span>\n",
       "</pre>\n"
      ],
      "text/plain": [
       "\u001b[1mModel: \"sequential_1\"\u001b[0m\n"
      ]
     },
     "metadata": {},
     "output_type": "display_data"
    },
    {
     "data": {
      "text/html": [
       "<pre style=\"white-space:pre;overflow-x:auto;line-height:normal;font-family:Menlo,'DejaVu Sans Mono',consolas,'Courier New',monospace\">┏━━━━━━━━━━━━━━━━━━━━━━━━━━━━━━━━━━━━━━┳━━━━━━━━━━━━━━━━━━━━━━━━━━━━━┳━━━━━━━━━━━━━━━━━┓\n",
       "┃<span style=\"font-weight: bold\"> Layer (type)                         </span>┃<span style=\"font-weight: bold\"> Output Shape                </span>┃<span style=\"font-weight: bold\">         Param # </span>┃\n",
       "┡━━━━━━━━━━━━━━━━━━━━━━━━━━━━━━━━━━━━━━╇━━━━━━━━━━━━━━━━━━━━━━━━━━━━━╇━━━━━━━━━━━━━━━━━┩\n",
       "│ dense_3 (<span style=\"color: #0087ff; text-decoration-color: #0087ff\">Dense</span>)                      │ (<span style=\"color: #00d7ff; text-decoration-color: #00d7ff\">None</span>, <span style=\"color: #00af00; text-decoration-color: #00af00\">80</span>)                  │           <span style=\"color: #00af00; text-decoration-color: #00af00\">1,520</span> │\n",
       "├──────────────────────────────────────┼─────────────────────────────┼─────────────────┤\n",
       "│ dense_4 (<span style=\"color: #0087ff; text-decoration-color: #0087ff\">Dense</span>)                      │ (<span style=\"color: #00d7ff; text-decoration-color: #00d7ff\">None</span>, <span style=\"color: #00af00; text-decoration-color: #00af00\">30</span>)                  │           <span style=\"color: #00af00; text-decoration-color: #00af00\">2,430</span> │\n",
       "├──────────────────────────────────────┼─────────────────────────────┼─────────────────┤\n",
       "│ dense_5 (<span style=\"color: #0087ff; text-decoration-color: #0087ff\">Dense</span>)                      │ (<span style=\"color: #00d7ff; text-decoration-color: #00d7ff\">None</span>, <span style=\"color: #00af00; text-decoration-color: #00af00\">1</span>)                   │              <span style=\"color: #00af00; text-decoration-color: #00af00\">31</span> │\n",
       "└──────────────────────────────────────┴─────────────────────────────┴─────────────────┘\n",
       "</pre>\n"
      ],
      "text/plain": [
       "┏━━━━━━━━━━━━━━━━━━━━━━━━━━━━━━━━━━━━━━┳━━━━━━━━━━━━━━━━━━━━━━━━━━━━━┳━━━━━━━━━━━━━━━━━┓\n",
       "┃\u001b[1m \u001b[0m\u001b[1mLayer (type)                        \u001b[0m\u001b[1m \u001b[0m┃\u001b[1m \u001b[0m\u001b[1mOutput Shape               \u001b[0m\u001b[1m \u001b[0m┃\u001b[1m \u001b[0m\u001b[1m        Param #\u001b[0m\u001b[1m \u001b[0m┃\n",
       "┡━━━━━━━━━━━━━━━━━━━━━━━━━━━━━━━━━━━━━━╇━━━━━━━━━━━━━━━━━━━━━━━━━━━━━╇━━━━━━━━━━━━━━━━━┩\n",
       "│ dense_3 (\u001b[38;5;33mDense\u001b[0m)                      │ (\u001b[38;5;45mNone\u001b[0m, \u001b[38;5;34m80\u001b[0m)                  │           \u001b[38;5;34m1,520\u001b[0m │\n",
       "├──────────────────────────────────────┼─────────────────────────────┼─────────────────┤\n",
       "│ dense_4 (\u001b[38;5;33mDense\u001b[0m)                      │ (\u001b[38;5;45mNone\u001b[0m, \u001b[38;5;34m30\u001b[0m)                  │           \u001b[38;5;34m2,430\u001b[0m │\n",
       "├──────────────────────────────────────┼─────────────────────────────┼─────────────────┤\n",
       "│ dense_5 (\u001b[38;5;33mDense\u001b[0m)                      │ (\u001b[38;5;45mNone\u001b[0m, \u001b[38;5;34m1\u001b[0m)                   │              \u001b[38;5;34m31\u001b[0m │\n",
       "└──────────────────────────────────────┴─────────────────────────────┴─────────────────┘\n"
      ]
     },
     "metadata": {},
     "output_type": "display_data"
    },
    {
     "data": {
      "text/html": [
       "<pre style=\"white-space:pre;overflow-x:auto;line-height:normal;font-family:Menlo,'DejaVu Sans Mono',consolas,'Courier New',monospace\"><span style=\"font-weight: bold\"> Total params: </span><span style=\"color: #00af00; text-decoration-color: #00af00\">3,981</span> (15.55 KB)\n",
       "</pre>\n"
      ],
      "text/plain": [
       "\u001b[1m Total params: \u001b[0m\u001b[38;5;34m3,981\u001b[0m (15.55 KB)\n"
      ]
     },
     "metadata": {},
     "output_type": "display_data"
    },
    {
     "data": {
      "text/html": [
       "<pre style=\"white-space:pre;overflow-x:auto;line-height:normal;font-family:Menlo,'DejaVu Sans Mono',consolas,'Courier New',monospace\"><span style=\"font-weight: bold\"> Trainable params: </span><span style=\"color: #00af00; text-decoration-color: #00af00\">3,981</span> (15.55 KB)\n",
       "</pre>\n"
      ],
      "text/plain": [
       "\u001b[1m Trainable params: \u001b[0m\u001b[38;5;34m3,981\u001b[0m (15.55 KB)\n"
      ]
     },
     "metadata": {},
     "output_type": "display_data"
    },
    {
     "data": {
      "text/html": [
       "<pre style=\"white-space:pre;overflow-x:auto;line-height:normal;font-family:Menlo,'DejaVu Sans Mono',consolas,'Courier New',monospace\"><span style=\"font-weight: bold\"> Non-trainable params: </span><span style=\"color: #00af00; text-decoration-color: #00af00\">0</span> (0.00 B)\n",
       "</pre>\n"
      ],
      "text/plain": [
       "\u001b[1m Non-trainable params: \u001b[0m\u001b[38;5;34m0\u001b[0m (0.00 B)\n"
      ]
     },
     "metadata": {},
     "output_type": "display_data"
    }
   ],
   "source": [
    "# Define the model - deep neural net, i.e., the number of input features and hidden nodes for each layer\n",
    "# Determine the number of input features\n",
    "input_features = X_train_res.shape[1]\n",
    "\n",
    "# Create the Keras Sequential model\n",
    "nn = tf.keras.models.Sequential()\n",
    "\n",
    "# First hidden layer\n",
    "nn.add(tf.keras.layers.Dense(units=80, activation='relu', input_dim=input_features))\n",
    "\n",
    "# Second hidden layer\n",
    "nn.add(tf.keras.layers.Dense(units=30, activation='relu'))\n",
    "\n",
    "# Output layer\n",
    "nn.add(tf.keras.layers.Dense(units=1, activation='sigmoid'))\n",
    "\n",
    "# Check the structure of the model\n",
    "nn.summary()"
   ]
  },
  {
   "cell_type": "code",
   "execution_count": 27,
   "metadata": {},
   "outputs": [],
   "source": [
    "# Compile the model\n",
    "nn.compile(optimizer='adam', loss='binary_crossentropy', metrics=['accuracy'])"
   ]
  },
  {
   "cell_type": "code",
   "execution_count": 28,
   "metadata": {},
   "outputs": [
    {
     "name": "stdout",
     "output_type": "stream",
     "text": [
      "Epoch 1/50\n",
      "\u001b[1m81/81\u001b[0m \u001b[32m━━━━━━━━━━━━━━━━━━━━\u001b[0m\u001b[37m\u001b[0m \u001b[1m1s\u001b[0m 2ms/step - accuracy: 0.5989 - loss: 0.6443\n",
      "Epoch 2/50\n",
      "\u001b[1m81/81\u001b[0m \u001b[32m━━━━━━━━━━━━━━━━━━━━\u001b[0m\u001b[37m\u001b[0m \u001b[1m0s\u001b[0m 2ms/step - accuracy: 0.8315 - loss: 0.3921\n",
      "Epoch 3/50\n",
      "\u001b[1m81/81\u001b[0m \u001b[32m━━━━━━━━━━━━━━━━━━━━\u001b[0m\u001b[37m\u001b[0m \u001b[1m0s\u001b[0m 1ms/step - accuracy: 0.8696 - loss: 0.3008\n",
      "Epoch 4/50\n",
      "\u001b[1m81/81\u001b[0m \u001b[32m━━━━━━━━━━━━━━━━━━━━\u001b[0m\u001b[37m\u001b[0m \u001b[1m0s\u001b[0m 1ms/step - accuracy: 0.8917 - loss: 0.2691\n",
      "Epoch 5/50\n",
      "\u001b[1m81/81\u001b[0m \u001b[32m━━━━━━━━━━━━━━━━━━━━\u001b[0m\u001b[37m\u001b[0m \u001b[1m0s\u001b[0m 1ms/step - accuracy: 0.9007 - loss: 0.2389\n",
      "Epoch 6/50\n",
      "\u001b[1m81/81\u001b[0m \u001b[32m━━━━━━━━━━━━━━━━━━━━\u001b[0m\u001b[37m\u001b[0m \u001b[1m0s\u001b[0m 1ms/step - accuracy: 0.8956 - loss: 0.2372\n",
      "Epoch 7/50\n",
      "\u001b[1m81/81\u001b[0m \u001b[32m━━━━━━━━━━━━━━━━━━━━\u001b[0m\u001b[37m\u001b[0m \u001b[1m0s\u001b[0m 1ms/step - accuracy: 0.9165 - loss: 0.2139\n",
      "Epoch 8/50\n",
      "\u001b[1m81/81\u001b[0m \u001b[32m━━━━━━━━━━━━━━━━━━━━\u001b[0m\u001b[37m\u001b[0m \u001b[1m0s\u001b[0m 1ms/step - accuracy: 0.9236 - loss: 0.2044\n",
      "Epoch 9/50\n",
      "\u001b[1m81/81\u001b[0m \u001b[32m━━━━━━━━━━━━━━━━━━━━\u001b[0m\u001b[37m\u001b[0m \u001b[1m0s\u001b[0m 1ms/step - accuracy: 0.9199 - loss: 0.1938\n",
      "Epoch 10/50\n",
      "\u001b[1m81/81\u001b[0m \u001b[32m━━━━━━━━━━━━━━━━━━━━\u001b[0m\u001b[37m\u001b[0m \u001b[1m0s\u001b[0m 1ms/step - accuracy: 0.9311 - loss: 0.1732\n",
      "Epoch 11/50\n",
      "\u001b[1m81/81\u001b[0m \u001b[32m━━━━━━━━━━━━━━━━━━━━\u001b[0m\u001b[37m\u001b[0m \u001b[1m0s\u001b[0m 1ms/step - accuracy: 0.9245 - loss: 0.1879\n",
      "Epoch 12/50\n",
      "\u001b[1m81/81\u001b[0m \u001b[32m━━━━━━━━━━━━━━━━━━━━\u001b[0m\u001b[37m\u001b[0m \u001b[1m0s\u001b[0m 1ms/step - accuracy: 0.9388 - loss: 0.1640\n",
      "Epoch 13/50\n",
      "\u001b[1m81/81\u001b[0m \u001b[32m━━━━━━━━━━━━━━━━━━━━\u001b[0m\u001b[37m\u001b[0m \u001b[1m0s\u001b[0m 1ms/step - accuracy: 0.9277 - loss: 0.1861\n",
      "Epoch 14/50\n",
      "\u001b[1m81/81\u001b[0m \u001b[32m━━━━━━━━━━━━━━━━━━━━\u001b[0m\u001b[37m\u001b[0m \u001b[1m0s\u001b[0m 1ms/step - accuracy: 0.9436 - loss: 0.1616\n",
      "Epoch 15/50\n",
      "\u001b[1m81/81\u001b[0m \u001b[32m━━━━━━━━━━━━━━━━━━━━\u001b[0m\u001b[37m\u001b[0m \u001b[1m0s\u001b[0m 1ms/step - accuracy: 0.9414 - loss: 0.1499\n",
      "Epoch 16/50\n",
      "\u001b[1m81/81\u001b[0m \u001b[32m━━━━━━━━━━━━━━━━━━━━\u001b[0m\u001b[37m\u001b[0m \u001b[1m0s\u001b[0m 1ms/step - accuracy: 0.9393 - loss: 0.1633\n",
      "Epoch 17/50\n",
      "\u001b[1m81/81\u001b[0m \u001b[32m━━━━━━━━━━━━━━━━━━━━\u001b[0m\u001b[37m\u001b[0m \u001b[1m0s\u001b[0m 1ms/step - accuracy: 0.9448 - loss: 0.1470\n",
      "Epoch 18/50\n",
      "\u001b[1m81/81\u001b[0m \u001b[32m━━━━━━━━━━━━━━━━━━━━\u001b[0m\u001b[37m\u001b[0m \u001b[1m0s\u001b[0m 1ms/step - accuracy: 0.9327 - loss: 0.1731\n",
      "Epoch 19/50\n",
      "\u001b[1m81/81\u001b[0m \u001b[32m━━━━━━━━━━━━━━━━━━━━\u001b[0m\u001b[37m\u001b[0m \u001b[1m0s\u001b[0m 1ms/step - accuracy: 0.9485 - loss: 0.1390\n",
      "Epoch 20/50\n",
      "\u001b[1m81/81\u001b[0m \u001b[32m━━━━━━━━━━━━━━━━━━━━\u001b[0m\u001b[37m\u001b[0m \u001b[1m0s\u001b[0m 1ms/step - accuracy: 0.9598 - loss: 0.1228\n",
      "Epoch 21/50\n",
      "\u001b[1m81/81\u001b[0m \u001b[32m━━━━━━━━━━━━━━━━━━━━\u001b[0m\u001b[37m\u001b[0m \u001b[1m0s\u001b[0m 1ms/step - accuracy: 0.9505 - loss: 0.1335\n",
      "Epoch 22/50\n",
      "\u001b[1m81/81\u001b[0m \u001b[32m━━━━━━━━━━━━━━━━━━━━\u001b[0m\u001b[37m\u001b[0m \u001b[1m0s\u001b[0m 1ms/step - accuracy: 0.9417 - loss: 0.1411\n",
      "Epoch 23/50\n",
      "\u001b[1m81/81\u001b[0m \u001b[32m━━━━━━━━━━━━━━━━━━━━\u001b[0m\u001b[37m\u001b[0m \u001b[1m0s\u001b[0m 1ms/step - accuracy: 0.9594 - loss: 0.1153\n",
      "Epoch 24/50\n",
      "\u001b[1m81/81\u001b[0m \u001b[32m━━━━━━━━━━━━━━━━━━━━\u001b[0m\u001b[37m\u001b[0m \u001b[1m0s\u001b[0m 1ms/step - accuracy: 0.9516 - loss: 0.1303\n",
      "Epoch 25/50\n",
      "\u001b[1m81/81\u001b[0m \u001b[32m━━━━━━━━━━━━━━━━━━━━\u001b[0m\u001b[37m\u001b[0m \u001b[1m0s\u001b[0m 1ms/step - accuracy: 0.9546 - loss: 0.1216\n",
      "Epoch 26/50\n",
      "\u001b[1m81/81\u001b[0m \u001b[32m━━━━━━━━━━━━━━━━━━━━\u001b[0m\u001b[37m\u001b[0m \u001b[1m0s\u001b[0m 1ms/step - accuracy: 0.9554 - loss: 0.1110\n",
      "Epoch 27/50\n",
      "\u001b[1m81/81\u001b[0m \u001b[32m━━━━━━━━━━━━━━━━━━━━\u001b[0m\u001b[37m\u001b[0m \u001b[1m0s\u001b[0m 1ms/step - accuracy: 0.9496 - loss: 0.1217\n",
      "Epoch 28/50\n",
      "\u001b[1m81/81\u001b[0m \u001b[32m━━━━━━━━━━━━━━━━━━━━\u001b[0m\u001b[37m\u001b[0m \u001b[1m0s\u001b[0m 1ms/step - accuracy: 0.9637 - loss: 0.1077\n",
      "Epoch 29/50\n",
      "\u001b[1m81/81\u001b[0m \u001b[32m━━━━━━━━━━━━━━━━━━━━\u001b[0m\u001b[37m\u001b[0m \u001b[1m0s\u001b[0m 1ms/step - accuracy: 0.9594 - loss: 0.1175\n",
      "Epoch 30/50\n",
      "\u001b[1m81/81\u001b[0m \u001b[32m━━━━━━━━━━━━━━━━━━━━\u001b[0m\u001b[37m\u001b[0m \u001b[1m0s\u001b[0m 1ms/step - accuracy: 0.9580 - loss: 0.1029\n",
      "Epoch 31/50\n",
      "\u001b[1m81/81\u001b[0m \u001b[32m━━━━━━━━━━━━━━━━━━━━\u001b[0m\u001b[37m\u001b[0m \u001b[1m0s\u001b[0m 2ms/step - accuracy: 0.9599 - loss: 0.1079\n",
      "Epoch 32/50\n",
      "\u001b[1m81/81\u001b[0m \u001b[32m━━━━━━━━━━━━━━━━━━━━\u001b[0m\u001b[37m\u001b[0m \u001b[1m0s\u001b[0m 1ms/step - accuracy: 0.9738 - loss: 0.0878\n",
      "Epoch 33/50\n",
      "\u001b[1m81/81\u001b[0m \u001b[32m━━━━━━━━━━━━━━━━━━━━\u001b[0m\u001b[37m\u001b[0m \u001b[1m0s\u001b[0m 1ms/step - accuracy: 0.9641 - loss: 0.0974\n",
      "Epoch 34/50\n",
      "\u001b[1m81/81\u001b[0m \u001b[32m━━━━━━━━━━━━━━━━━━━━\u001b[0m\u001b[37m\u001b[0m \u001b[1m0s\u001b[0m 1ms/step - accuracy: 0.9663 - loss: 0.0993\n",
      "Epoch 35/50\n",
      "\u001b[1m81/81\u001b[0m \u001b[32m━━━━━━━━━━━━━━━━━━━━\u001b[0m\u001b[37m\u001b[0m \u001b[1m0s\u001b[0m 1ms/step - accuracy: 0.9718 - loss: 0.0920\n",
      "Epoch 36/50\n",
      "\u001b[1m81/81\u001b[0m \u001b[32m━━━━━━━━━━━━━━━━━━━━\u001b[0m\u001b[37m\u001b[0m \u001b[1m0s\u001b[0m 1ms/step - accuracy: 0.9691 - loss: 0.0903\n",
      "Epoch 37/50\n",
      "\u001b[1m81/81\u001b[0m \u001b[32m━━━━━━━━━━━━━━━━━━━━\u001b[0m\u001b[37m\u001b[0m \u001b[1m0s\u001b[0m 2ms/step - accuracy: 0.9588 - loss: 0.1105\n",
      "Epoch 38/50\n",
      "\u001b[1m81/81\u001b[0m \u001b[32m━━━━━━━━━━━━━━━━━━━━\u001b[0m\u001b[37m\u001b[0m \u001b[1m0s\u001b[0m 1ms/step - accuracy: 0.9730 - loss: 0.0803\n",
      "Epoch 39/50\n",
      "\u001b[1m81/81\u001b[0m \u001b[32m━━━━━━━━━━━━━━━━━━━━\u001b[0m\u001b[37m\u001b[0m \u001b[1m0s\u001b[0m 1ms/step - accuracy: 0.9672 - loss: 0.0920\n",
      "Epoch 40/50\n",
      "\u001b[1m81/81\u001b[0m \u001b[32m━━━━━━━━━━━━━━━━━━━━\u001b[0m\u001b[37m\u001b[0m \u001b[1m0s\u001b[0m 1ms/step - accuracy: 0.9705 - loss: 0.0817\n",
      "Epoch 41/50\n",
      "\u001b[1m81/81\u001b[0m \u001b[32m━━━━━━━━━━━━━━━━━━━━\u001b[0m\u001b[37m\u001b[0m \u001b[1m0s\u001b[0m 1ms/step - accuracy: 0.9748 - loss: 0.0796\n",
      "Epoch 42/50\n",
      "\u001b[1m81/81\u001b[0m \u001b[32m━━━━━━━━━━━━━━━━━━━━\u001b[0m\u001b[37m\u001b[0m \u001b[1m0s\u001b[0m 1ms/step - accuracy: 0.9726 - loss: 0.0807\n",
      "Epoch 43/50\n",
      "\u001b[1m81/81\u001b[0m \u001b[32m━━━━━━━━━━━━━━━━━━━━\u001b[0m\u001b[37m\u001b[0m \u001b[1m0s\u001b[0m 1ms/step - accuracy: 0.9735 - loss: 0.0795\n",
      "Epoch 44/50\n",
      "\u001b[1m81/81\u001b[0m \u001b[32m━━━━━━━━━━━━━━━━━━━━\u001b[0m\u001b[37m\u001b[0m \u001b[1m0s\u001b[0m 1ms/step - accuracy: 0.9820 - loss: 0.0698\n",
      "Epoch 45/50\n",
      "\u001b[1m81/81\u001b[0m \u001b[32m━━━━━━━━━━━━━━━━━━━━\u001b[0m\u001b[37m\u001b[0m \u001b[1m0s\u001b[0m 1ms/step - accuracy: 0.9787 - loss: 0.0736\n",
      "Epoch 46/50\n",
      "\u001b[1m81/81\u001b[0m \u001b[32m━━━━━━━━━━━━━━━━━━━━\u001b[0m\u001b[37m\u001b[0m \u001b[1m0s\u001b[0m 1ms/step - accuracy: 0.9760 - loss: 0.0791\n",
      "Epoch 47/50\n",
      "\u001b[1m81/81\u001b[0m \u001b[32m━━━━━━━━━━━━━━━━━━━━\u001b[0m\u001b[37m\u001b[0m \u001b[1m0s\u001b[0m 1ms/step - accuracy: 0.9787 - loss: 0.0716\n",
      "Epoch 48/50\n",
      "\u001b[1m81/81\u001b[0m \u001b[32m━━━━━━━━━━━━━━━━━━━━\u001b[0m\u001b[37m\u001b[0m \u001b[1m0s\u001b[0m 1ms/step - accuracy: 0.9748 - loss: 0.0758\n",
      "Epoch 49/50\n",
      "\u001b[1m81/81\u001b[0m \u001b[32m━━━━━━━━━━━━━━━━━━━━\u001b[0m\u001b[37m\u001b[0m \u001b[1m0s\u001b[0m 1ms/step - accuracy: 0.9797 - loss: 0.0597\n",
      "Epoch 50/50\n",
      "\u001b[1m81/81\u001b[0m \u001b[32m━━━━━━━━━━━━━━━━━━━━\u001b[0m\u001b[37m\u001b[0m \u001b[1m0s\u001b[0m 2ms/step - accuracy: 0.9803 - loss: 0.0641\n"
     ]
    }
   ],
   "source": [
    "# Train the model\n",
    "fit_model = nn.fit(X_train_scaled, y_train_res, epochs=50)"
   ]
  },
  {
   "cell_type": "code",
   "execution_count": 29,
   "metadata": {},
   "outputs": [
    {
     "name": "stdout",
     "output_type": "stream",
     "text": [
      "\u001b[1m81/81\u001b[0m \u001b[32m━━━━━━━━━━━━━━━━━━━━\u001b[0m\u001b[37m\u001b[0m \u001b[1m0s\u001b[0m 1ms/step  \n",
      "\u001b[1m14/14\u001b[0m \u001b[32m━━━━━━━━━━━━━━━━━━━━\u001b[0m\u001b[37m\u001b[0m \u001b[1m0s\u001b[0m 964us/step\n",
      "Metrics for Nural Network model_1: \n",
      "acc train: 0.98, acc test: 0.64, precision: 0.27, recall: 0.27\n"
     ]
    }
   ],
   "source": [
    "# Evaluate the model using the function to calculate different metrics for this model\n",
    "# Create predictions using the testing data\n",
    "y_pred_train = nn.predict(X_train_scaled)>0.5\n",
    "y_pred_test = nn.predict(X_test_scaled)>0.5\n",
    "\n",
    "# Calling the function to calculate the metrics\n",
    "print(f\"Metrics for Nural Network model_1: \")\n",
    "acc_train_knn, acc_test_knn, p_knn, r_knn = calculate_metrics(y_train_res, y_test, y_pred_train, y_pred_test)"
   ]
  },
  {
   "cell_type": "code",
   "execution_count": 30,
   "metadata": {},
   "outputs": [
    {
     "name": "stdout",
     "output_type": "stream",
     "text": [
      "14/14 - 0s - 10ms/step - accuracy: 0.6449 - loss: 2.2027\n",
      "Loss: 2.202688694000244, Accuracy: 0.644859790802002\n"
     ]
    }
   ],
   "source": [
    "# Evaluate the model using the test data\n",
    "model_loss, model_accuracy = nn.evaluate(X_test_scaled,y_test,verbose=2)\n",
    "print(f\"Loss: {model_loss}, Accuracy: {model_accuracy}\")"
   ]
  },
  {
   "cell_type": "markdown",
   "metadata": {},
   "source": [
    "## Model 4_2: Deep Neural Networks(DNN)"
   ]
  },
  {
   "cell_type": "markdown",
   "metadata": {},
   "source": [
    "Attempt 1: Use same structure but different number of nurons in each layer and increasing the Epoch from 50 t0 100. Also the number of units from 80 and 30 have changed to 14 and 7 as well."
   ]
  },
  {
   "cell_type": "code",
   "execution_count": 31,
   "metadata": {},
   "outputs": [
    {
     "data": {
      "text/html": [
       "<pre style=\"white-space:pre;overflow-x:auto;line-height:normal;font-family:Menlo,'DejaVu Sans Mono',consolas,'Courier New',monospace\"><span style=\"font-weight: bold\">Model: \"sequential_3\"</span>\n",
       "</pre>\n"
      ],
      "text/plain": [
       "\u001b[1mModel: \"sequential_3\"\u001b[0m\n"
      ]
     },
     "metadata": {},
     "output_type": "display_data"
    },
    {
     "data": {
      "text/html": [
       "<pre style=\"white-space:pre;overflow-x:auto;line-height:normal;font-family:Menlo,'DejaVu Sans Mono',consolas,'Courier New',monospace\">┏━━━━━━━━━━━━━━━━━━━━━━━━━━━━━━━━━━━━━━┳━━━━━━━━━━━━━━━━━━━━━━━━━━━━━┳━━━━━━━━━━━━━━━━━┓\n",
       "┃<span style=\"font-weight: bold\"> Layer (type)                         </span>┃<span style=\"font-weight: bold\"> Output Shape                </span>┃<span style=\"font-weight: bold\">         Param # </span>┃\n",
       "┡━━━━━━━━━━━━━━━━━━━━━━━━━━━━━━━━━━━━━━╇━━━━━━━━━━━━━━━━━━━━━━━━━━━━━╇━━━━━━━━━━━━━━━━━┩\n",
       "│ dense_6 (<span style=\"color: #0087ff; text-decoration-color: #0087ff\">Dense</span>)                      │ (<span style=\"color: #00d7ff; text-decoration-color: #00d7ff\">None</span>, <span style=\"color: #00af00; text-decoration-color: #00af00\">14</span>)                  │             <span style=\"color: #00af00; text-decoration-color: #00af00\">266</span> │\n",
       "├──────────────────────────────────────┼─────────────────────────────┼─────────────────┤\n",
       "│ dense_7 (<span style=\"color: #0087ff; text-decoration-color: #0087ff\">Dense</span>)                      │ (<span style=\"color: #00d7ff; text-decoration-color: #00d7ff\">None</span>, <span style=\"color: #00af00; text-decoration-color: #00af00\">7</span>)                   │             <span style=\"color: #00af00; text-decoration-color: #00af00\">105</span> │\n",
       "├──────────────────────────────────────┼─────────────────────────────┼─────────────────┤\n",
       "│ dense_8 (<span style=\"color: #0087ff; text-decoration-color: #0087ff\">Dense</span>)                      │ (<span style=\"color: #00d7ff; text-decoration-color: #00d7ff\">None</span>, <span style=\"color: #00af00; text-decoration-color: #00af00\">1</span>)                   │               <span style=\"color: #00af00; text-decoration-color: #00af00\">8</span> │\n",
       "└──────────────────────────────────────┴─────────────────────────────┴─────────────────┘\n",
       "</pre>\n"
      ],
      "text/plain": [
       "┏━━━━━━━━━━━━━━━━━━━━━━━━━━━━━━━━━━━━━━┳━━━━━━━━━━━━━━━━━━━━━━━━━━━━━┳━━━━━━━━━━━━━━━━━┓\n",
       "┃\u001b[1m \u001b[0m\u001b[1mLayer (type)                        \u001b[0m\u001b[1m \u001b[0m┃\u001b[1m \u001b[0m\u001b[1mOutput Shape               \u001b[0m\u001b[1m \u001b[0m┃\u001b[1m \u001b[0m\u001b[1m        Param #\u001b[0m\u001b[1m \u001b[0m┃\n",
       "┡━━━━━━━━━━━━━━━━━━━━━━━━━━━━━━━━━━━━━━╇━━━━━━━━━━━━━━━━━━━━━━━━━━━━━╇━━━━━━━━━━━━━━━━━┩\n",
       "│ dense_6 (\u001b[38;5;33mDense\u001b[0m)                      │ (\u001b[38;5;45mNone\u001b[0m, \u001b[38;5;34m14\u001b[0m)                  │             \u001b[38;5;34m266\u001b[0m │\n",
       "├──────────────────────────────────────┼─────────────────────────────┼─────────────────┤\n",
       "│ dense_7 (\u001b[38;5;33mDense\u001b[0m)                      │ (\u001b[38;5;45mNone\u001b[0m, \u001b[38;5;34m7\u001b[0m)                   │             \u001b[38;5;34m105\u001b[0m │\n",
       "├──────────────────────────────────────┼─────────────────────────────┼─────────────────┤\n",
       "│ dense_8 (\u001b[38;5;33mDense\u001b[0m)                      │ (\u001b[38;5;45mNone\u001b[0m, \u001b[38;5;34m1\u001b[0m)                   │               \u001b[38;5;34m8\u001b[0m │\n",
       "└──────────────────────────────────────┴─────────────────────────────┴─────────────────┘\n"
      ]
     },
     "metadata": {},
     "output_type": "display_data"
    },
    {
     "data": {
      "text/html": [
       "<pre style=\"white-space:pre;overflow-x:auto;line-height:normal;font-family:Menlo,'DejaVu Sans Mono',consolas,'Courier New',monospace\"><span style=\"font-weight: bold\"> Total params: </span><span style=\"color: #00af00; text-decoration-color: #00af00\">379</span> (1.48 KB)\n",
       "</pre>\n"
      ],
      "text/plain": [
       "\u001b[1m Total params: \u001b[0m\u001b[38;5;34m379\u001b[0m (1.48 KB)\n"
      ]
     },
     "metadata": {},
     "output_type": "display_data"
    },
    {
     "data": {
      "text/html": [
       "<pre style=\"white-space:pre;overflow-x:auto;line-height:normal;font-family:Menlo,'DejaVu Sans Mono',consolas,'Courier New',monospace\"><span style=\"font-weight: bold\"> Trainable params: </span><span style=\"color: #00af00; text-decoration-color: #00af00\">379</span> (1.48 KB)\n",
       "</pre>\n"
      ],
      "text/plain": [
       "\u001b[1m Trainable params: \u001b[0m\u001b[38;5;34m379\u001b[0m (1.48 KB)\n"
      ]
     },
     "metadata": {},
     "output_type": "display_data"
    },
    {
     "data": {
      "text/html": [
       "<pre style=\"white-space:pre;overflow-x:auto;line-height:normal;font-family:Menlo,'DejaVu Sans Mono',consolas,'Courier New',monospace\"><span style=\"font-weight: bold\"> Non-trainable params: </span><span style=\"color: #00af00; text-decoration-color: #00af00\">0</span> (0.00 B)\n",
       "</pre>\n"
      ],
      "text/plain": [
       "\u001b[1m Non-trainable params: \u001b[0m\u001b[38;5;34m0\u001b[0m (0.00 B)\n"
      ]
     },
     "metadata": {},
     "output_type": "display_data"
    }
   ],
   "source": [
    "# Define the model - deep neural net, i.e., the number of input features and hidden nodes for each layer.\n",
    "# Determine the number of input features\n",
    "number_input_features = len( X_train_scaled[0])\n",
    "hidden_nodes_layer1=14\n",
    "hidden_nodes_layer2=7\n",
    "nn = tf.keras.models.Sequential()\n",
    "\n",
    "nn = tf.keras.models.Sequential()\n",
    "\n",
    "# First hidden layer\n",
    "nn.add(tf.keras.layers.Dense(units=hidden_nodes_layer1, input_dim=number_input_features, activation='relu'))\n",
    "\n",
    "# Second hidden layer\n",
    "nn.add(tf.keras.layers.Dense(units=hidden_nodes_layer2, activation='relu'))\n",
    "\n",
    "# Output layer\n",
    "nn.add(tf.keras.layers.Dense(units=1, activation='sigmoid'))\n",
    "\n",
    "# Check the structure of the model\n",
    "nn.summary()"
   ]
  },
  {
   "cell_type": "code",
   "execution_count": 32,
   "metadata": {},
   "outputs": [],
   "source": [
    "# Compile the model\n",
    "nn.compile(optimizer='adam', loss='binary_crossentropy', metrics=['accuracy'])"
   ]
  },
  {
   "cell_type": "code",
   "execution_count": 33,
   "metadata": {},
   "outputs": [
    {
     "name": "stdout",
     "output_type": "stream",
     "text": [
      "Epoch 1/100\n",
      "\u001b[1m81/81\u001b[0m \u001b[32m━━━━━━━━━━━━━━━━━━━━\u001b[0m\u001b[37m\u001b[0m \u001b[1m1s\u001b[0m 2ms/step - accuracy: 0.5028 - loss: 0.8675\n",
      "Epoch 2/100\n",
      "\u001b[1m81/81\u001b[0m \u001b[32m━━━━━━━━━━━━━━━━━━━━\u001b[0m\u001b[37m\u001b[0m \u001b[1m0s\u001b[0m 1ms/step - accuracy: 0.5470 - loss: 0.6832\n",
      "Epoch 3/100\n",
      "\u001b[1m81/81\u001b[0m \u001b[32m━━━━━━━━━━━━━━━━━━━━\u001b[0m\u001b[37m\u001b[0m \u001b[1m0s\u001b[0m 1ms/step - accuracy: 0.6636 - loss: 0.6114\n",
      "Epoch 4/100\n",
      "\u001b[1m81/81\u001b[0m \u001b[32m━━━━━━━━━━━━━━━━━━━━\u001b[0m\u001b[37m\u001b[0m \u001b[1m0s\u001b[0m 1ms/step - accuracy: 0.7486 - loss: 0.5522\n",
      "Epoch 5/100\n",
      "\u001b[1m81/81\u001b[0m \u001b[32m━━━━━━━━━━━━━━━━━━━━\u001b[0m\u001b[37m\u001b[0m \u001b[1m0s\u001b[0m 1ms/step - accuracy: 0.8021 - loss: 0.5187\n",
      "Epoch 6/100\n",
      "\u001b[1m81/81\u001b[0m \u001b[32m━━━━━━━━━━━━━━━━━━━━\u001b[0m\u001b[37m\u001b[0m \u001b[1m0s\u001b[0m 2ms/step - accuracy: 0.8388 - loss: 0.4779\n",
      "Epoch 7/100\n",
      "\u001b[1m81/81\u001b[0m \u001b[32m━━━━━━━━━━━━━━━━━━━━\u001b[0m\u001b[37m\u001b[0m \u001b[1m0s\u001b[0m 1ms/step - accuracy: 0.8360 - loss: 0.4590\n",
      "Epoch 8/100\n",
      "\u001b[1m81/81\u001b[0m \u001b[32m━━━━━━━━━━━━━━━━━━━━\u001b[0m\u001b[37m\u001b[0m \u001b[1m0s\u001b[0m 993us/step - accuracy: 0.8520 - loss: 0.4299\n",
      "Epoch 9/100\n",
      "\u001b[1m81/81\u001b[0m \u001b[32m━━━━━━━━━━━━━━━━━━━━\u001b[0m\u001b[37m\u001b[0m \u001b[1m0s\u001b[0m 1ms/step - accuracy: 0.8694 - loss: 0.4159\n",
      "Epoch 10/100\n",
      "\u001b[1m81/81\u001b[0m \u001b[32m━━━━━━━━━━━━━━━━━━━━\u001b[0m\u001b[37m\u001b[0m \u001b[1m0s\u001b[0m 1ms/step - accuracy: 0.8847 - loss: 0.3981  \n",
      "Epoch 11/100\n",
      "\u001b[1m81/81\u001b[0m \u001b[32m━━━━━━━━━━━━━━━━━━━━\u001b[0m\u001b[37m\u001b[0m \u001b[1m0s\u001b[0m 1ms/step - accuracy: 0.8794 - loss: 0.3777\n",
      "Epoch 12/100\n",
      "\u001b[1m81/81\u001b[0m \u001b[32m━━━━━━━━━━━━━━━━━━━━\u001b[0m\u001b[37m\u001b[0m \u001b[1m0s\u001b[0m 1ms/step - accuracy: 0.8995 - loss: 0.3655\n",
      "Epoch 13/100\n",
      "\u001b[1m81/81\u001b[0m \u001b[32m━━━━━━━━━━━━━━━━━━━━\u001b[0m\u001b[37m\u001b[0m \u001b[1m0s\u001b[0m 1ms/step - accuracy: 0.8943 - loss: 0.3621  \n",
      "Epoch 14/100\n",
      "\u001b[1m81/81\u001b[0m \u001b[32m━━━━━━━━━━━━━━━━━━━━\u001b[0m\u001b[37m\u001b[0m \u001b[1m0s\u001b[0m 1ms/step - accuracy: 0.8927 - loss: 0.3512\n",
      "Epoch 15/100\n",
      "\u001b[1m81/81\u001b[0m \u001b[32m━━━━━━━━━━━━━━━━━━━━\u001b[0m\u001b[37m\u001b[0m \u001b[1m0s\u001b[0m 1ms/step - accuracy: 0.8998 - loss: 0.3420\n",
      "Epoch 16/100\n",
      "\u001b[1m81/81\u001b[0m \u001b[32m━━━━━━━━━━━━━━━━━━━━\u001b[0m\u001b[37m\u001b[0m \u001b[1m0s\u001b[0m 1ms/step - accuracy: 0.8975 - loss: 0.3399\n",
      "Epoch 17/100\n",
      "\u001b[1m81/81\u001b[0m \u001b[32m━━━━━━━━━━━━━━━━━━━━\u001b[0m\u001b[37m\u001b[0m \u001b[1m0s\u001b[0m 1ms/step - accuracy: 0.8893 - loss: 0.3408\n",
      "Epoch 18/100\n",
      "\u001b[1m81/81\u001b[0m \u001b[32m━━━━━━━━━━━━━━━━━━━━\u001b[0m\u001b[37m\u001b[0m \u001b[1m0s\u001b[0m 1ms/step - accuracy: 0.9052 - loss: 0.3111\n",
      "Epoch 19/100\n",
      "\u001b[1m81/81\u001b[0m \u001b[32m━━━━━━━━━━━━━━━━━━━━\u001b[0m\u001b[37m\u001b[0m \u001b[1m0s\u001b[0m 1ms/step - accuracy: 0.9120 - loss: 0.2992\n",
      "Epoch 20/100\n",
      "\u001b[1m81/81\u001b[0m \u001b[32m━━━━━━━━━━━━━━━━━━━━\u001b[0m\u001b[37m\u001b[0m \u001b[1m0s\u001b[0m 1ms/step - accuracy: 0.9073 - loss: 0.3030\n",
      "Epoch 21/100\n",
      "\u001b[1m81/81\u001b[0m \u001b[32m━━━━━━━━━━━━━━━━━━━━\u001b[0m\u001b[37m\u001b[0m \u001b[1m0s\u001b[0m 1ms/step - accuracy: 0.9081 - loss: 0.2973\n",
      "Epoch 22/100\n",
      "\u001b[1m81/81\u001b[0m \u001b[32m━━━━━━━━━━━━━━━━━━━━\u001b[0m\u001b[37m\u001b[0m \u001b[1m0s\u001b[0m 1ms/step - accuracy: 0.8963 - loss: 0.3112\n",
      "Epoch 23/100\n",
      "\u001b[1m81/81\u001b[0m \u001b[32m━━━━━━━━━━━━━━━━━━━━\u001b[0m\u001b[37m\u001b[0m \u001b[1m0s\u001b[0m 1ms/step - accuracy: 0.9061 - loss: 0.2896\n",
      "Epoch 24/100\n",
      "\u001b[1m81/81\u001b[0m \u001b[32m━━━━━━━━━━━━━━━━━━━━\u001b[0m\u001b[37m\u001b[0m \u001b[1m0s\u001b[0m 1ms/step - accuracy: 0.9157 - loss: 0.2849\n",
      "Epoch 25/100\n",
      "\u001b[1m81/81\u001b[0m \u001b[32m━━━━━━━━━━━━━━━━━━━━\u001b[0m\u001b[37m\u001b[0m \u001b[1m0s\u001b[0m 1ms/step - accuracy: 0.9045 - loss: 0.2919\n",
      "Epoch 26/100\n",
      "\u001b[1m81/81\u001b[0m \u001b[32m━━━━━━━━━━━━━━━━━━━━\u001b[0m\u001b[37m\u001b[0m \u001b[1m0s\u001b[0m 1ms/step - accuracy: 0.9107 - loss: 0.2705\n",
      "Epoch 27/100\n",
      "\u001b[1m81/81\u001b[0m \u001b[32m━━━━━━━━━━━━━━━━━━━━\u001b[0m\u001b[37m\u001b[0m \u001b[1m0s\u001b[0m 1ms/step - accuracy: 0.9234 - loss: 0.2563\n",
      "Epoch 28/100\n",
      "\u001b[1m81/81\u001b[0m \u001b[32m━━━━━━━━━━━━━━━━━━━━\u001b[0m\u001b[37m\u001b[0m \u001b[1m0s\u001b[0m 1ms/step - accuracy: 0.9187 - loss: 0.2646\n",
      "Epoch 29/100\n",
      "\u001b[1m81/81\u001b[0m \u001b[32m━━━━━━━━━━━━━━━━━━━━\u001b[0m\u001b[37m\u001b[0m \u001b[1m0s\u001b[0m 1ms/step - accuracy: 0.9133 - loss: 0.2611\n",
      "Epoch 30/100\n",
      "\u001b[1m81/81\u001b[0m \u001b[32m━━━━━━━━━━━━━━━━━━━━\u001b[0m\u001b[37m\u001b[0m \u001b[1m0s\u001b[0m 1ms/step - accuracy: 0.9128 - loss: 0.2578\n",
      "Epoch 31/100\n",
      "\u001b[1m81/81\u001b[0m \u001b[32m━━━━━━━━━━━━━━━━━━━━\u001b[0m\u001b[37m\u001b[0m \u001b[1m0s\u001b[0m 1ms/step - accuracy: 0.9156 - loss: 0.2587\n",
      "Epoch 32/100\n",
      "\u001b[1m81/81\u001b[0m \u001b[32m━━━━━━━━━━━━━━━━━━━━\u001b[0m\u001b[37m\u001b[0m \u001b[1m0s\u001b[0m 1ms/step - accuracy: 0.9157 - loss: 0.2491\n",
      "Epoch 33/100\n",
      "\u001b[1m81/81\u001b[0m \u001b[32m━━━━━━━━━━━━━━━━━━━━\u001b[0m\u001b[37m\u001b[0m \u001b[1m0s\u001b[0m 1ms/step - accuracy: 0.9198 - loss: 0.2401\n",
      "Epoch 34/100\n",
      "\u001b[1m81/81\u001b[0m \u001b[32m━━━━━━━━━━━━━━━━━━━━\u001b[0m\u001b[37m\u001b[0m \u001b[1m0s\u001b[0m 1ms/step - accuracy: 0.9131 - loss: 0.2555\n",
      "Epoch 35/100\n",
      "\u001b[1m81/81\u001b[0m \u001b[32m━━━━━━━━━━━━━━━━━━━━\u001b[0m\u001b[37m\u001b[0m \u001b[1m0s\u001b[0m 1ms/step - accuracy: 0.9234 - loss: 0.2406\n",
      "Epoch 36/100\n",
      "\u001b[1m81/81\u001b[0m \u001b[32m━━━━━━━━━━━━━━━━━━━━\u001b[0m\u001b[37m\u001b[0m \u001b[1m0s\u001b[0m 1ms/step - accuracy: 0.9272 - loss: 0.2338\n",
      "Epoch 37/100\n",
      "\u001b[1m81/81\u001b[0m \u001b[32m━━━━━━━━━━━━━━━━━━━━\u001b[0m\u001b[37m\u001b[0m \u001b[1m0s\u001b[0m 1ms/step - accuracy: 0.9272 - loss: 0.2329\n",
      "Epoch 38/100\n",
      "\u001b[1m81/81\u001b[0m \u001b[32m━━━━━━━━━━━━━━━━━━━━\u001b[0m\u001b[37m\u001b[0m \u001b[1m0s\u001b[0m 1ms/step - accuracy: 0.9144 - loss: 0.2371\n",
      "Epoch 39/100\n",
      "\u001b[1m81/81\u001b[0m \u001b[32m━━━━━━━━━━━━━━━━━━━━\u001b[0m\u001b[37m\u001b[0m \u001b[1m0s\u001b[0m 1ms/step - accuracy: 0.9313 - loss: 0.2177\n",
      "Epoch 40/100\n",
      "\u001b[1m81/81\u001b[0m \u001b[32m━━━━━━━━━━━━━━━━━━━━\u001b[0m\u001b[37m\u001b[0m \u001b[1m0s\u001b[0m 1ms/step - accuracy: 0.9156 - loss: 0.2427\n",
      "Epoch 41/100\n",
      "\u001b[1m81/81\u001b[0m \u001b[32m━━━━━━━━━━━━━━━━━━━━\u001b[0m\u001b[37m\u001b[0m \u001b[1m0s\u001b[0m 1ms/step - accuracy: 0.9379 - loss: 0.2165\n",
      "Epoch 42/100\n",
      "\u001b[1m81/81\u001b[0m \u001b[32m━━━━━━━━━━━━━━━━━━━━\u001b[0m\u001b[37m\u001b[0m \u001b[1m0s\u001b[0m 1ms/step - accuracy: 0.9321 - loss: 0.2072\n",
      "Epoch 43/100\n",
      "\u001b[1m81/81\u001b[0m \u001b[32m━━━━━━━━━━━━━━━━━━━━\u001b[0m\u001b[37m\u001b[0m \u001b[1m0s\u001b[0m 1ms/step - accuracy: 0.9305 - loss: 0.2195\n",
      "Epoch 44/100\n",
      "\u001b[1m81/81\u001b[0m \u001b[32m━━━━━━━━━━━━━━━━━━━━\u001b[0m\u001b[37m\u001b[0m \u001b[1m0s\u001b[0m 1ms/step - accuracy: 0.9235 - loss: 0.2277\n",
      "Epoch 45/100\n",
      "\u001b[1m81/81\u001b[0m \u001b[32m━━━━━━━━━━━━━━━━━━━━\u001b[0m\u001b[37m\u001b[0m \u001b[1m0s\u001b[0m 1ms/step - accuracy: 0.9315 - loss: 0.2108\n",
      "Epoch 46/100\n",
      "\u001b[1m81/81\u001b[0m \u001b[32m━━━━━━━━━━━━━━━━━━━━\u001b[0m\u001b[37m\u001b[0m \u001b[1m0s\u001b[0m 1ms/step - accuracy: 0.9273 - loss: 0.2088\n",
      "Epoch 47/100\n",
      "\u001b[1m81/81\u001b[0m \u001b[32m━━━━━━━━━━━━━━━━━━━━\u001b[0m\u001b[37m\u001b[0m \u001b[1m0s\u001b[0m 1ms/step - accuracy: 0.9233 - loss: 0.2246\n",
      "Epoch 48/100\n",
      "\u001b[1m81/81\u001b[0m \u001b[32m━━━━━━━━━━━━━━━━━━━━\u001b[0m\u001b[37m\u001b[0m \u001b[1m0s\u001b[0m 1ms/step - accuracy: 0.9303 - loss: 0.2126\n",
      "Epoch 49/100\n",
      "\u001b[1m81/81\u001b[0m \u001b[32m━━━━━━━━━━━━━━━━━━━━\u001b[0m\u001b[37m\u001b[0m \u001b[1m0s\u001b[0m 1ms/step - accuracy: 0.9226 - loss: 0.2059\n",
      "Epoch 50/100\n",
      "\u001b[1m81/81\u001b[0m \u001b[32m━━━━━━━━━━━━━━━━━━━━\u001b[0m\u001b[37m\u001b[0m \u001b[1m0s\u001b[0m 1ms/step - accuracy: 0.9339 - loss: 0.2015\n",
      "Epoch 51/100\n",
      "\u001b[1m81/81\u001b[0m \u001b[32m━━━━━━━━━━━━━━━━━━━━\u001b[0m\u001b[37m\u001b[0m \u001b[1m0s\u001b[0m 2ms/step - accuracy: 0.9398 - loss: 0.1877\n",
      "Epoch 52/100\n",
      "\u001b[1m81/81\u001b[0m \u001b[32m━━━━━━━━━━━━━━━━━━━━\u001b[0m\u001b[37m\u001b[0m \u001b[1m0s\u001b[0m 1ms/step - accuracy: 0.9239 - loss: 0.2106\n",
      "Epoch 53/100\n",
      "\u001b[1m81/81\u001b[0m \u001b[32m━━━━━━━━━━━━━━━━━━━━\u001b[0m\u001b[37m\u001b[0m \u001b[1m0s\u001b[0m 1ms/step - accuracy: 0.9349 - loss: 0.2059\n",
      "Epoch 54/100\n",
      "\u001b[1m81/81\u001b[0m \u001b[32m━━━━━━━━━━━━━━━━━━━━\u001b[0m\u001b[37m\u001b[0m \u001b[1m0s\u001b[0m 1ms/step - accuracy: 0.9339 - loss: 0.2032\n",
      "Epoch 55/100\n",
      "\u001b[1m81/81\u001b[0m \u001b[32m━━━━━━━━━━━━━━━━━━━━\u001b[0m\u001b[37m\u001b[0m \u001b[1m0s\u001b[0m 1ms/step - accuracy: 0.9317 - loss: 0.2122\n",
      "Epoch 56/100\n",
      "\u001b[1m81/81\u001b[0m \u001b[32m━━━━━━━━━━━━━━━━━━━━\u001b[0m\u001b[37m\u001b[0m \u001b[1m0s\u001b[0m 1ms/step - accuracy: 0.9294 - loss: 0.1985\n",
      "Epoch 57/100\n",
      "\u001b[1m81/81\u001b[0m \u001b[32m━━━━━━━━━━━━━━━━━━━━\u001b[0m\u001b[37m\u001b[0m \u001b[1m0s\u001b[0m 1ms/step - accuracy: 0.9355 - loss: 0.2017\n",
      "Epoch 58/100\n",
      "\u001b[1m81/81\u001b[0m \u001b[32m━━━━━━━━━━━━━━━━━━━━\u001b[0m\u001b[37m\u001b[0m \u001b[1m0s\u001b[0m 1ms/step - accuracy: 0.9357 - loss: 0.1862\n",
      "Epoch 59/100\n",
      "\u001b[1m81/81\u001b[0m \u001b[32m━━━━━━━━━━━━━━━━━━━━\u001b[0m\u001b[37m\u001b[0m \u001b[1m0s\u001b[0m 1ms/step - accuracy: 0.9282 - loss: 0.2045  \n",
      "Epoch 60/100\n",
      "\u001b[1m81/81\u001b[0m \u001b[32m━━━━━━━━━━━━━━━━━━━━\u001b[0m\u001b[37m\u001b[0m \u001b[1m0s\u001b[0m 995us/step - accuracy: 0.9341 - loss: 0.2037\n",
      "Epoch 61/100\n",
      "\u001b[1m81/81\u001b[0m \u001b[32m━━━━━━━━━━━━━━━━━━━━\u001b[0m\u001b[37m\u001b[0m \u001b[1m0s\u001b[0m 1ms/step - accuracy: 0.9359 - loss: 0.2004  \n",
      "Epoch 62/100\n",
      "\u001b[1m81/81\u001b[0m \u001b[32m━━━━━━━━━━━━━━━━━━━━\u001b[0m\u001b[37m\u001b[0m \u001b[1m0s\u001b[0m 1ms/step - accuracy: 0.9419 - loss: 0.1802\n",
      "Epoch 63/100\n",
      "\u001b[1m81/81\u001b[0m \u001b[32m━━━━━━━━━━━━━━━━━━━━\u001b[0m\u001b[37m\u001b[0m \u001b[1m0s\u001b[0m 1ms/step - accuracy: 0.9325 - loss: 0.1892\n",
      "Epoch 64/100\n",
      "\u001b[1m81/81\u001b[0m \u001b[32m━━━━━━━━━━━━━━━━━━━━\u001b[0m\u001b[37m\u001b[0m \u001b[1m0s\u001b[0m 1ms/step - accuracy: 0.9413 - loss: 0.1810\n",
      "Epoch 65/100\n",
      "\u001b[1m81/81\u001b[0m \u001b[32m━━━━━━━━━━━━━━━━━━━━\u001b[0m\u001b[37m\u001b[0m \u001b[1m0s\u001b[0m 1ms/step - accuracy: 0.9384 - loss: 0.1845\n",
      "Epoch 66/100\n",
      "\u001b[1m81/81\u001b[0m \u001b[32m━━━━━━━━━━━━━━━━━━━━\u001b[0m\u001b[37m\u001b[0m \u001b[1m0s\u001b[0m 1ms/step - accuracy: 0.9428 - loss: 0.1729\n",
      "Epoch 67/100\n",
      "\u001b[1m81/81\u001b[0m \u001b[32m━━━━━━━━━━━━━━━━━━━━\u001b[0m\u001b[37m\u001b[0m \u001b[1m0s\u001b[0m 1ms/step - accuracy: 0.9385 - loss: 0.1830\n",
      "Epoch 68/100\n",
      "\u001b[1m81/81\u001b[0m \u001b[32m━━━━━━━━━━━━━━━━━━━━\u001b[0m\u001b[37m\u001b[0m \u001b[1m0s\u001b[0m 1ms/step - accuracy: 0.9433 - loss: 0.1743\n",
      "Epoch 69/100\n",
      "\u001b[1m81/81\u001b[0m \u001b[32m━━━━━━━━━━━━━━━━━━━━\u001b[0m\u001b[37m\u001b[0m \u001b[1m0s\u001b[0m 1ms/step - accuracy: 0.9315 - loss: 0.1851\n",
      "Epoch 70/100\n",
      "\u001b[1m81/81\u001b[0m \u001b[32m━━━━━━━━━━━━━━━━━━━━\u001b[0m\u001b[37m\u001b[0m \u001b[1m0s\u001b[0m 1ms/step - accuracy: 0.9326 - loss: 0.1888\n",
      "Epoch 71/100\n",
      "\u001b[1m81/81\u001b[0m \u001b[32m━━━━━━━━━━━━━━━━━━━━\u001b[0m\u001b[37m\u001b[0m \u001b[1m0s\u001b[0m 1ms/step - accuracy: 0.9362 - loss: 0.1764\n",
      "Epoch 72/100\n",
      "\u001b[1m81/81\u001b[0m \u001b[32m━━━━━━━━━━━━━━━━━━━━\u001b[0m\u001b[37m\u001b[0m \u001b[1m0s\u001b[0m 963us/step - accuracy: 0.9393 - loss: 0.1698\n",
      "Epoch 73/100\n",
      "\u001b[1m81/81\u001b[0m \u001b[32m━━━━━━━━━━━━━━━━━━━━\u001b[0m\u001b[37m\u001b[0m \u001b[1m0s\u001b[0m 1ms/step - accuracy: 0.9295 - loss: 0.1820\n",
      "Epoch 74/100\n",
      "\u001b[1m81/81\u001b[0m \u001b[32m━━━━━━━━━━━━━━━━━━━━\u001b[0m\u001b[37m\u001b[0m \u001b[1m0s\u001b[0m 1ms/step - accuracy: 0.9445 - loss: 0.1682\n",
      "Epoch 75/100\n",
      "\u001b[1m81/81\u001b[0m \u001b[32m━━━━━━━━━━━━━━━━━━━━\u001b[0m\u001b[37m\u001b[0m \u001b[1m0s\u001b[0m 1ms/step - accuracy: 0.9343 - loss: 0.1776\n",
      "Epoch 76/100\n",
      "\u001b[1m81/81\u001b[0m \u001b[32m━━━━━━━━━━━━━━━━━━━━\u001b[0m\u001b[37m\u001b[0m \u001b[1m0s\u001b[0m 1ms/step - accuracy: 0.9402 - loss: 0.1661\n",
      "Epoch 77/100\n",
      "\u001b[1m81/81\u001b[0m \u001b[32m━━━━━━━━━━━━━━━━━━━━\u001b[0m\u001b[37m\u001b[0m \u001b[1m0s\u001b[0m 1ms/step - accuracy: 0.9358 - loss: 0.1760  \n",
      "Epoch 78/100\n",
      "\u001b[1m81/81\u001b[0m \u001b[32m━━━━━━━━━━━━━━━━━━━━\u001b[0m\u001b[37m\u001b[0m \u001b[1m0s\u001b[0m 1ms/step - accuracy: 0.9338 - loss: 0.1823\n",
      "Epoch 79/100\n",
      "\u001b[1m81/81\u001b[0m \u001b[32m━━━━━━━━━━━━━━━━━━━━\u001b[0m\u001b[37m\u001b[0m \u001b[1m0s\u001b[0m 1ms/step - accuracy: 0.9362 - loss: 0.1833\n",
      "Epoch 80/100\n",
      "\u001b[1m81/81\u001b[0m \u001b[32m━━━━━━━━━━━━━━━━━━━━\u001b[0m\u001b[37m\u001b[0m \u001b[1m0s\u001b[0m 1ms/step - accuracy: 0.9381 - loss: 0.1721\n",
      "Epoch 81/100\n",
      "\u001b[1m81/81\u001b[0m \u001b[32m━━━━━━━━━━━━━━━━━━━━\u001b[0m\u001b[37m\u001b[0m \u001b[1m0s\u001b[0m 1ms/step - accuracy: 0.9359 - loss: 0.1824\n",
      "Epoch 82/100\n",
      "\u001b[1m81/81\u001b[0m \u001b[32m━━━━━━━━━━━━━━━━━━━━\u001b[0m\u001b[37m\u001b[0m \u001b[1m0s\u001b[0m 1ms/step - accuracy: 0.9365 - loss: 0.1645\n",
      "Epoch 83/100\n",
      "\u001b[1m81/81\u001b[0m \u001b[32m━━━━━━━━━━━━━━━━━━━━\u001b[0m\u001b[37m\u001b[0m \u001b[1m0s\u001b[0m 1ms/step - accuracy: 0.9440 - loss: 0.1591  \n",
      "Epoch 84/100\n",
      "\u001b[1m81/81\u001b[0m \u001b[32m━━━━━━━━━━━━━━━━━━━━\u001b[0m\u001b[37m\u001b[0m \u001b[1m0s\u001b[0m 1ms/step - accuracy: 0.9404 - loss: 0.1654\n",
      "Epoch 85/100\n",
      "\u001b[1m81/81\u001b[0m \u001b[32m━━━━━━━━━━━━━━━━━━━━\u001b[0m\u001b[37m\u001b[0m \u001b[1m0s\u001b[0m 1ms/step - accuracy: 0.9454 - loss: 0.1673\n",
      "Epoch 86/100\n",
      "\u001b[1m81/81\u001b[0m \u001b[32m━━━━━━━━━━━━━━━━━━━━\u001b[0m\u001b[37m\u001b[0m \u001b[1m0s\u001b[0m 977us/step - accuracy: 0.9429 - loss: 0.1658\n",
      "Epoch 87/100\n",
      "\u001b[1m81/81\u001b[0m \u001b[32m━━━━━━━━━━━━━━━━━━━━\u001b[0m\u001b[37m\u001b[0m \u001b[1m0s\u001b[0m 994us/step - accuracy: 0.9409 - loss: 0.1621\n",
      "Epoch 88/100\n",
      "\u001b[1m81/81\u001b[0m \u001b[32m━━━━━━━━━━━━━━━━━━━━\u001b[0m\u001b[37m\u001b[0m \u001b[1m0s\u001b[0m 1ms/step - accuracy: 0.9538 - loss: 0.1515\n",
      "Epoch 89/100\n",
      "\u001b[1m81/81\u001b[0m \u001b[32m━━━━━━━━━━━━━━━━━━━━\u001b[0m\u001b[37m\u001b[0m \u001b[1m0s\u001b[0m 1ms/step - accuracy: 0.9479 - loss: 0.1550  \n",
      "Epoch 90/100\n",
      "\u001b[1m81/81\u001b[0m \u001b[32m━━━━━━━━━━━━━━━━━━━━\u001b[0m\u001b[37m\u001b[0m \u001b[1m0s\u001b[0m 963us/step - accuracy: 0.9493 - loss: 0.1592\n",
      "Epoch 91/100\n",
      "\u001b[1m81/81\u001b[0m \u001b[32m━━━━━━━━━━━━━━━━━━━━\u001b[0m\u001b[37m\u001b[0m \u001b[1m0s\u001b[0m 992us/step - accuracy: 0.9443 - loss: 0.1563\n",
      "Epoch 92/100\n",
      "\u001b[1m81/81\u001b[0m \u001b[32m━━━━━━━━━━━━━━━━━━━━\u001b[0m\u001b[37m\u001b[0m \u001b[1m0s\u001b[0m 1ms/step - accuracy: 0.9478 - loss: 0.1540\n",
      "Epoch 93/100\n",
      "\u001b[1m81/81\u001b[0m \u001b[32m━━━━━━━━━━━━━━━━━━━━\u001b[0m\u001b[37m\u001b[0m \u001b[1m0s\u001b[0m 1ms/step - accuracy: 0.9371 - loss: 0.1762\n",
      "Epoch 94/100\n",
      "\u001b[1m81/81\u001b[0m \u001b[32m━━━━━━━━━━━━━━━━━━━━\u001b[0m\u001b[37m\u001b[0m \u001b[1m0s\u001b[0m 1ms/step - accuracy: 0.9455 - loss: 0.1564  \n",
      "Epoch 95/100\n",
      "\u001b[1m81/81\u001b[0m \u001b[32m━━━━━━━━━━━━━━━━━━━━\u001b[0m\u001b[37m\u001b[0m \u001b[1m0s\u001b[0m 1ms/step - accuracy: 0.9486 - loss: 0.1515  \n",
      "Epoch 96/100\n",
      "\u001b[1m81/81\u001b[0m \u001b[32m━━━━━━━━━━━━━━━━━━━━\u001b[0m\u001b[37m\u001b[0m \u001b[1m0s\u001b[0m 1ms/step - accuracy: 0.9512 - loss: 0.1436\n",
      "Epoch 97/100\n",
      "\u001b[1m81/81\u001b[0m \u001b[32m━━━━━━━━━━━━━━━━━━━━\u001b[0m\u001b[37m\u001b[0m \u001b[1m0s\u001b[0m 1ms/step - accuracy: 0.9381 - loss: 0.1700\n",
      "Epoch 98/100\n",
      "\u001b[1m81/81\u001b[0m \u001b[32m━━━━━━━━━━━━━━━━━━━━\u001b[0m\u001b[37m\u001b[0m \u001b[1m0s\u001b[0m 999us/step - accuracy: 0.9451 - loss: 0.1512\n",
      "Epoch 99/100\n",
      "\u001b[1m81/81\u001b[0m \u001b[32m━━━━━━━━━━━━━━━━━━━━\u001b[0m\u001b[37m\u001b[0m \u001b[1m0s\u001b[0m 1ms/step - accuracy: 0.9486 - loss: 0.1366\n",
      "Epoch 100/100\n",
      "\u001b[1m81/81\u001b[0m \u001b[32m━━━━━━━━━━━━━━━━━━━━\u001b[0m\u001b[37m\u001b[0m \u001b[1m0s\u001b[0m 1ms/step - accuracy: 0.9475 - loss: 0.1511\n"
     ]
    }
   ],
   "source": [
    "# Train the model\n",
    "fit_model = nn.fit(X_train_scaled, y_train_res, epochs=100)"
   ]
  },
  {
   "cell_type": "code",
   "execution_count": 34,
   "metadata": {},
   "outputs": [
    {
     "name": "stdout",
     "output_type": "stream",
     "text": [
      "\u001b[1m81/81\u001b[0m \u001b[32m━━━━━━━━━━━━━━━━━━━━\u001b[0m\u001b[37m\u001b[0m \u001b[1m0s\u001b[0m 1ms/step\n",
      "\u001b[1m14/14\u001b[0m \u001b[32m━━━━━━━━━━━━━━━━━━━━\u001b[0m\u001b[37m\u001b[0m \u001b[1m0s\u001b[0m 878us/step\n",
      "Metrics for Nural Network model_2: \n",
      "acc train: 0.95, acc test: 0.67, precision: 0.31, recall: 0.3\n"
     ]
    }
   ],
   "source": [
    "# Evaluate the model using the function to calculate different metrics for this model\n",
    "# Create predictions using the testing data\n",
    "y_pred_train = nn.predict(X_train_scaled)>0.5\n",
    "y_pred_test = nn.predict(X_test_scaled)>0.5\n",
    "\n",
    "# Calling the function to calculate the metrics\n",
    "print(f\"Metrics for Nural Network model_2: \")\n",
    "acc_train_nn, acc_test_nn, p_nn, r_nn = calculate_metrics(y_train_res, y_test, y_pred_train, y_pred_test)"
   ]
  },
  {
   "cell_type": "code",
   "execution_count": 35,
   "metadata": {},
   "outputs": [
    {
     "name": "stdout",
     "output_type": "stream",
     "text": [
      "14/14 - 0s - 10ms/step - accuracy: 0.6682 - loss: 1.4292\n",
      "Loss: 1.4291925430297852, Accuracy: 0.6682242751121521\n"
     ]
    }
   ],
   "source": [
    "# Evaluate the model using the test data\n",
    "model_loss, model_accuracy = nn.evaluate(X_test_scaled,y_test,verbose=2)\n",
    "print(f\"Loss: {model_loss}, Accuracy: {model_accuracy}\")"
   ]
  },
  {
   "cell_type": "markdown",
   "metadata": {},
   "source": [
    "## Model 4_3: Deep Neural Networks(DNN)"
   ]
  },
  {
   "cell_type": "markdown",
   "metadata": {},
   "source": [
    "Attempt 2: Optimising the structure using the Keras Tuner\n",
    "\n",
    "* Allow activation function to choose between relu, sigmoid, tanh\n",
    " *  sigmoid is still the only option for the final layer\n",
    "* Allow number of neurons to vary from 6 to ~75\n",
    "* Allow for 1, 2, or 3 extra hidden layers (not input or output)\n"
   ]
  },
  {
   "cell_type": "code",
   "execution_count": 38,
   "metadata": {},
   "outputs": [
    {
     "name": "stdout",
     "output_type": "stream",
     "text": [
      "Features: 18\n"
     ]
    }
   ],
   "source": [
    "import keras_tuner as kt\n",
    "\n",
    "NUM_FEATURES = X_train_res.shape[1]\n",
    "print(\"Features:\", NUM_FEATURES)\n",
    "\n",
    "def create_model(hp: kt.HyperParameters) -> tf.keras.models.Sequential:\n",
    "    model = tf.keras.models.Sequential()\n",
    "\n",
    "    # Allow kerastuner to decide which activation function to use in hidden layers\n",
    "    activation = hp.Choice(\"activation\", [\"relu\", \"sigmoid\", \"tanh\"])\n",
    "\n",
    "    # Allow kerastuner to decide number of neurons in first layer\n",
    "    model.add(tf.keras.layers.Dense(units=hp.Int(\"first_units\", 6, NUM_FEATURES*2, step=6),\n",
    "                                    activation=activation,\n",
    "                                    input_dim=NUM_FEATURES))\n",
    "    \n",
    "    # Allow kerastuner to decide number of hidden layers and neurons in hidden layers\n",
    "    for i in range(hp.Int(\"num_layers\", 1, 3)):\n",
    "        model.add(tf.keras.layers.Dense(units=hp.Int('units_' + str(i),\n",
    "                                                     6, NUM_FEATURES*2, step=6),\n",
    "                                        activation=activation))\n",
    "    # output layer\n",
    "    model.add(tf.keras.layers.Dense(units=1, activation=\"sigmoid\"))\n",
    "\n",
    "    # Compile the model\n",
    "    model.compile(loss=\"binary_crossentropy\",\n",
    "                  optimizer='adam',\n",
    "                  metrics=[\"accuracy\"])\n",
    "    return model\n",
    "\n",
    "tuner = kt.Hyperband(create_model,\n",
    "                     objective=\"val_accuracy\",\n",
    "                     max_epochs=25,\n",
    "                     overwrite=True,\n",
    "                     hyperband_iterations=2)"
   ]
  },
  {
   "cell_type": "code",
   "execution_count": 39,
   "metadata": {},
   "outputs": [
    {
     "name": "stdout",
     "output_type": "stream",
     "text": [
      "Trial 60 Complete [00h 00m 08s]\n",
      "val_accuracy: 0.663551390171051\n",
      "\n",
      "Best val_accuracy So Far: 0.7570093274116516\n",
      "Total elapsed time: 00h 04m 07s\n"
     ]
    }
   ],
   "source": [
    "# Run the kerastuner search for best hyperparameters\n",
    "tuner.search(X_train_scaled,\n",
    "             y_train_res,\n",
    "             epochs=25,\n",
    "             validation_data=(X_test_scaled, y_test))"
   ]
  },
  {
   "cell_type": "code",
   "execution_count": 40,
   "metadata": {},
   "outputs": [
    {
     "name": "stdout",
     "output_type": "stream",
     "text": [
      "{'activation': 'sigmoid', 'first_units': 6, 'num_layers': 3, 'units_0': 12, 'units_1': 24, 'units_2': 18, 'tuner/epochs': 3, 'tuner/initial_epoch': 0, 'tuner/bracket': 2, 'tuner/round': 0}\n",
      "{'activation': 'sigmoid', 'first_units': 18, 'num_layers': 3, 'units_0': 18, 'units_1': 18, 'units_2': 36, 'tuner/epochs': 3, 'tuner/initial_epoch': 0, 'tuner/bracket': 2, 'tuner/round': 0}\n",
      "{'activation': 'sigmoid', 'first_units': 6, 'num_layers': 3, 'units_0': 12, 'units_1': 24, 'units_2': 18, 'tuner/epochs': 9, 'tuner/initial_epoch': 3, 'tuner/bracket': 2, 'tuner/round': 1, 'tuner/trial_id': '0002'}\n",
      "14/14 - 0s - 18ms/step - accuracy: 0.7570 - loss: 0.6778\n",
      "Loss: 0.6777974963188171, Accuracy: 0.7570093274116516\n",
      "14/14 - 0s - 21ms/step - accuracy: 0.7570 - loss: 0.6470\n",
      "Loss: 0.6469507217407227, Accuracy: 0.7570093274116516\n",
      "14/14 - 0s - 19ms/step - accuracy: 0.7570 - loss: 0.6764\n",
      "Loss: 0.6764254570007324, Accuracy: 0.7570093274116516\n"
     ]
    }
   ],
   "source": [
    "# Get top 3 model hyperparameters and print the values\n",
    "top_3_hp = tuner.get_best_hyperparameters(3)\n",
    "for hparam in top_3_hp:\n",
    "    print(hparam.values)\n",
    "\n",
    "# Evaluate the top 3 models against the test dataset\n",
    "top_3_model = tuner.get_best_models(3)\n",
    "for model in top_3_model:\n",
    "    model_loss, model_accuracy = model.evaluate(X_test_scaled, y_test, verbose=2)\n",
    "    print(f\"Loss: {model_loss}, Accuracy: {model_accuracy}\")"
   ]
  },
  {
   "cell_type": "code",
   "execution_count": 41,
   "metadata": {},
   "outputs": [
    {
     "name": "stdout",
     "output_type": "stream",
     "text": [
      "14/14 - 0s - 19ms/step - accuracy: 0.7570 - loss: 0.6778\n",
      "Loss: 0.6777974963188171, Accuracy: 0.7570093274116516\n"
     ]
    }
   ],
   "source": [
    "best_tuned_model = tuner.get_best_models(1)[0]\n",
    "# Evaluate the model using the test data\n",
    "model_loss2, model_accuracy2 = best_tuned_model.evaluate(X_test_scaled, y_test, verbose=2)\n",
    "print(f\"Loss: {model_loss2}, Accuracy: {model_accuracy2}\")"
   ]
  },
  {
   "cell_type": "code",
   "execution_count": 42,
   "metadata": {},
   "outputs": [
    {
     "name": "stdout",
     "output_type": "stream",
     "text": [
      "Epoch 1/25\n",
      "81/81 - 1s - 16ms/step - accuracy: 0.7241 - loss: 0.5938\n",
      "Epoch 2/25\n",
      "81/81 - 0s - 2ms/step - accuracy: 0.8308 - loss: 0.4050\n",
      "Epoch 3/25\n",
      "81/81 - 0s - 2ms/step - accuracy: 0.8733 - loss: 0.3139\n",
      "Epoch 4/25\n",
      "81/81 - 0s - 1ms/step - accuracy: 0.8941 - loss: 0.2787\n",
      "Epoch 5/25\n",
      "81/81 - 0s - 1ms/step - accuracy: 0.9022 - loss: 0.2594\n",
      "Epoch 6/25\n",
      "81/81 - 0s - 2ms/step - accuracy: 0.9065 - loss: 0.2438\n",
      "Epoch 7/25\n",
      "81/81 - 0s - 1ms/step - accuracy: 0.9073 - loss: 0.2334\n",
      "Epoch 8/25\n",
      "81/81 - 0s - 1ms/step - accuracy: 0.9119 - loss: 0.2229\n",
      "Epoch 9/25\n",
      "81/81 - 0s - 1ms/step - accuracy: 0.9162 - loss: 0.2146\n",
      "Epoch 10/25\n",
      "81/81 - 0s - 1ms/step - accuracy: 0.9231 - loss: 0.2065\n",
      "Epoch 11/25\n",
      "81/81 - 0s - 1ms/step - accuracy: 0.9247 - loss: 0.2008\n",
      "Epoch 12/25\n",
      "81/81 - 0s - 1ms/step - accuracy: 0.9258 - loss: 0.1963\n",
      "Epoch 13/25\n",
      "81/81 - 0s - 1ms/step - accuracy: 0.9316 - loss: 0.1903\n",
      "Epoch 14/25\n",
      "81/81 - 0s - 1ms/step - accuracy: 0.9304 - loss: 0.1852\n",
      "Epoch 15/25\n",
      "81/81 - 0s - 1ms/step - accuracy: 0.9312 - loss: 0.1825\n",
      "Epoch 16/25\n",
      "81/81 - 0s - 1ms/step - accuracy: 0.9347 - loss: 0.1784\n",
      "Epoch 17/25\n",
      "81/81 - 0s - 1ms/step - accuracy: 0.9359 - loss: 0.1758\n",
      "Epoch 18/25\n",
      "81/81 - 0s - 1ms/step - accuracy: 0.9355 - loss: 0.1725\n",
      "Epoch 19/25\n",
      "81/81 - 0s - 1ms/step - accuracy: 0.9389 - loss: 0.1680\n",
      "Epoch 20/25\n",
      "81/81 - 0s - 1ms/step - accuracy: 0.9393 - loss: 0.1641\n",
      "Epoch 21/25\n",
      "81/81 - 0s - 1ms/step - accuracy: 0.9428 - loss: 0.1600\n",
      "Epoch 22/25\n",
      "81/81 - 0s - 2ms/step - accuracy: 0.9397 - loss: 0.1595\n",
      "Epoch 23/25\n",
      "81/81 - 0s - 2ms/step - accuracy: 0.9420 - loss: 0.1552\n",
      "Epoch 24/25\n",
      "81/81 - 0s - 2ms/step - accuracy: 0.9436 - loss: 0.1534\n",
      "Epoch 25/25\n",
      "81/81 - 0s - 1ms/step - accuracy: 0.9444 - loss: 0.1488\n",
      "14/14 - 0s - 10ms/step - accuracy: 0.6495 - loss: 1.5992\n",
      "Loss: 1.5992056131362915, Accuracy: 0.6495327353477478\n"
     ]
    }
   ],
   "source": [
    "# Define the best model offered by Keras Tuner\n",
    "input_features = X_train_scaled.shape[1]\n",
    "best_model = tf.keras.models.Sequential()\n",
    "\n",
    "# Add the first hidden layer\n",
    "best_model.add(tf.keras.layers.Dense(units=30, activation='relu', input_dim=input_features))\n",
    "\n",
    "# Add the second hidden layer\n",
    "best_model.add(tf.keras.layers.Dense(units=12, activation='relu'))\n",
    "\n",
    "# Add the third hidden layer\n",
    "best_model.add(tf.keras.layers.Dense(units=24, activation='relu'))\n",
    "\n",
    "# Add the output layer\n",
    "best_model.add(tf.keras.layers.Dense(units=1, activation='sigmoid'))\n",
    "\n",
    "# Compile the model\n",
    "best_model.compile(loss='binary_crossentropy', optimizer='adam', metrics=['accuracy'])\n",
    "\n",
    "# Train the model with appropriate number of epochs and batch size\n",
    "history = best_model.fit(X_train_scaled, y_train_res, epochs=25, batch_size=32, verbose=2)\n",
    "\n",
    "# Evaluate the model on the test dataset\n",
    "model_loss, model_accuracy = best_model.evaluate(X_test_scaled, y_test, verbose=2)\n",
    "print(f\"Loss: {model_loss}, Accuracy: {model_accuracy}\")"
   ]
  },
  {
   "cell_type": "code",
   "execution_count": 44,
   "metadata": {},
   "outputs": [
    {
     "name": "stdout",
     "output_type": "stream",
     "text": [
      "\u001b[1m81/81\u001b[0m \u001b[32m━━━━━━━━━━━━━━━━━━━━\u001b[0m\u001b[37m\u001b[0m \u001b[1m0s\u001b[0m 844us/step\n",
      "\u001b[1m14/14\u001b[0m \u001b[32m━━━━━━━━━━━━━━━━━━━━\u001b[0m\u001b[37m\u001b[0m \u001b[1m0s\u001b[0m 1ms/step \n",
      "Metrics for Nural Network model_3: \n",
      "acc train: 0.95, acc test: 0.65, precision: 0.28, recall: 0.29\n"
     ]
    }
   ],
   "source": [
    "# Evaluate the model using the function to calculate different metrics for this model\n",
    "# Create predictions using the testing data\n",
    "y_pred_train = best_model.predict(X_train_scaled)>0.5\n",
    "y_pred_test = best_model.predict(X_test_scaled)>0.5\n",
    "\n",
    "# Calling the function to calculate the metrics\n",
    "print(f\"Metrics for Nural Network model_3: \")\n",
    "acc_train_best_model, acc_test_best_model, p_best_model, r_best_model = calculate_metrics(y_train_res, y_test, y_pred_train, y_pred_test)"
   ]
  },
  {
   "cell_type": "markdown",
   "metadata": {},
   "source": [
    "## Model 4_4: Deep Neural Networks(DNN)"
   ]
  },
  {
   "cell_type": "markdown",
   "metadata": {},
   "source": [
    "In this attempt, we will keep the 7 first important features according to the horizontal bar chart plotted in the Random Forest model."
   ]
  },
  {
   "cell_type": "code",
   "execution_count": 56,
   "metadata": {},
   "outputs": [
    {
     "data": {
      "text/html": [
       "<div>\n",
       "<style scoped>\n",
       "    .dataframe tbody tr th:only-of-type {\n",
       "        vertical-align: middle;\n",
       "    }\n",
       "\n",
       "    .dataframe tbody tr th {\n",
       "        vertical-align: top;\n",
       "    }\n",
       "\n",
       "    .dataframe thead th {\n",
       "        text-align: right;\n",
       "    }\n",
       "</style>\n",
       "<table border=\"1\" class=\"dataframe\">\n",
       "  <thead>\n",
       "    <tr style=\"text-align: right;\">\n",
       "      <th></th>\n",
       "      <th>off_treatment</th>\n",
       "      <th>time</th>\n",
       "      <th>age</th>\n",
       "      <th>weight</th>\n",
       "      <th>karnofsky_score</th>\n",
       "      <th>cd4_base</th>\n",
       "      <th>cd4_20wks</th>\n",
       "      <th>infected</th>\n",
       "    </tr>\n",
       "  </thead>\n",
       "  <tbody>\n",
       "    <tr>\n",
       "      <th>0</th>\n",
       "      <td>0</td>\n",
       "      <td>948</td>\n",
       "      <td>48</td>\n",
       "      <td>89.8128</td>\n",
       "      <td>100</td>\n",
       "      <td>422</td>\n",
       "      <td>477</td>\n",
       "      <td>0</td>\n",
       "    </tr>\n",
       "    <tr>\n",
       "      <th>1</th>\n",
       "      <td>0</td>\n",
       "      <td>1002</td>\n",
       "      <td>61</td>\n",
       "      <td>49.4424</td>\n",
       "      <td>90</td>\n",
       "      <td>162</td>\n",
       "      <td>218</td>\n",
       "      <td>1</td>\n",
       "    </tr>\n",
       "    <tr>\n",
       "      <th>2</th>\n",
       "      <td>1</td>\n",
       "      <td>961</td>\n",
       "      <td>45</td>\n",
       "      <td>88.4520</td>\n",
       "      <td>90</td>\n",
       "      <td>326</td>\n",
       "      <td>274</td>\n",
       "      <td>0</td>\n",
       "    </tr>\n",
       "    <tr>\n",
       "      <th>3</th>\n",
       "      <td>0</td>\n",
       "      <td>1166</td>\n",
       "      <td>47</td>\n",
       "      <td>85.2768</td>\n",
       "      <td>100</td>\n",
       "      <td>287</td>\n",
       "      <td>394</td>\n",
       "      <td>0</td>\n",
       "    </tr>\n",
       "    <tr>\n",
       "      <th>4</th>\n",
       "      <td>0</td>\n",
       "      <td>1090</td>\n",
       "      <td>43</td>\n",
       "      <td>66.6792</td>\n",
       "      <td>100</td>\n",
       "      <td>504</td>\n",
       "      <td>353</td>\n",
       "      <td>0</td>\n",
       "    </tr>\n",
       "  </tbody>\n",
       "</table>\n",
       "</div>"
      ],
      "text/plain": [
       "   off_treatment  time  age   weight  karnofsky_score  cd4_base  cd4_20wks  \\\n",
       "0              0   948   48  89.8128              100       422        477   \n",
       "1              0  1002   61  49.4424               90       162        218   \n",
       "2              1   961   45  88.4520               90       326        274   \n",
       "3              0  1166   47  85.2768              100       287        394   \n",
       "4              0  1090   43  66.6792              100       504        353   \n",
       "\n",
       "   infected  \n",
       "0         0  \n",
       "1         1  \n",
       "2         0  \n",
       "3         0  \n",
       "4         0  "
      ]
     },
     "execution_count": 56,
     "metadata": {},
     "output_type": "execute_result"
    }
   ],
   "source": [
    "# Drop the columns with lower importance according to the Random Forest \"Feature Importance bar chart\".\n",
    "new_AIDS_df = AIDS_df.drop([ 'treatment', 'ZDV_only_treatment', 'hemophilia', 'drugs', 'race',\n",
    "       'gender', 'therapy_prior', 'ZDV_last_30days','ART_history', 'ART_history_stratified', 'symptom','cd4_propdif','cd4_numerical_change'], axis = 1)\n",
    "new_AIDS_df.head()"
   ]
  },
  {
   "cell_type": "code",
   "execution_count": 57,
   "metadata": {},
   "outputs": [
    {
     "data": {
      "text/plain": [
       "Index(['off_treatment', 'time', 'age', 'weight', 'karnofsky_score', 'cd4_base',\n",
       "       'cd4_20wks', 'infected'],\n",
       "      dtype='object')"
      ]
     },
     "execution_count": 57,
     "metadata": {},
     "output_type": "execute_result"
    }
   ],
   "source": [
    "new_AIDS_df.columns"
   ]
  },
  {
   "cell_type": "code",
   "execution_count": 58,
   "metadata": {},
   "outputs": [],
   "source": [
    "# Split our preprocessed data into our features and target arrays\n",
    "y = new_AIDS_df['infected'].ravel()\n",
    "x = new_AIDS_df.drop(columns='infected')\n",
    "\n",
    "# Split the preprocessed data into a training and testing dataset\n",
    "X_train, X_test, y_train, y_test = train_test_split(x, y,test_size=0.2, random_state=1)"
   ]
  },
  {
   "cell_type": "code",
   "execution_count": 63,
   "metadata": {},
   "outputs": [
    {
     "name": "stdout",
     "output_type": "stream",
     "text": [
      "0    1309\n",
      "1    1309\n",
      "Name: count, dtype: int64\n"
     ]
    }
   ],
   "source": [
    "sm = SMOTE(random_state=42) \n",
    "X_train_res, y_train_res = sm.fit_resample(X_train, y_train)\n",
    "\n",
    "# Convert y_train_res back to a Pandas Series for value_counts()\n",
    "y_train_res_series = pd.Series(y_train_res)\n",
    "\n",
    "print(y_train_res_series.value_counts())\n"
   ]
  },
  {
   "cell_type": "code",
   "execution_count": 64,
   "metadata": {},
   "outputs": [
    {
     "name": "stdout",
     "output_type": "stream",
     "text": [
      "Feature=> train: (1711, 7) - test: (428, 7)\n",
      "Label=> train: (1711,) - test: (428,)\n"
     ]
    }
   ],
   "source": [
    "# print the number and shape of train and test data\n",
    "print(f\"Feature=> train: {X_train.shape} - test: {X_test.shape}\")\n",
    "print(f\"Label=> train: {y_train.shape} - test: {y_test.shape}\")"
   ]
  },
  {
   "cell_type": "code",
   "execution_count": 65,
   "metadata": {},
   "outputs": [],
   "source": [
    "# Create a StandardScaler instances\n",
    "scaler = StandardScaler()\n",
    "\n",
    "# Fit the StandardScaler\n",
    "X_scaler = scaler.fit(X_train_res)\n",
    "\n",
    "# Scale the data\n",
    "X_train_scaled = X_scaler.transform(X_train_res)\n",
    "X_test_scaled = X_scaler.transform(X_test)"
   ]
  },
  {
   "cell_type": "code",
   "execution_count": 67,
   "metadata": {},
   "outputs": [
    {
     "name": "stdout",
     "output_type": "stream",
     "text": [
      "Epoch 1/25\n",
      "82/82 - 1s - 16ms/step - accuracy: 0.7819 - loss: 0.5443\n",
      "Epoch 2/25\n",
      "82/82 - 0s - 2ms/step - accuracy: 0.8461 - loss: 0.3779\n",
      "Epoch 3/25\n",
      "82/82 - 0s - 2ms/step - accuracy: 0.8751 - loss: 0.3173\n",
      "Epoch 4/25\n",
      "82/82 - 0s - 2ms/step - accuracy: 0.8766 - loss: 0.2940\n",
      "Epoch 5/25\n",
      "82/82 - 0s - 2ms/step - accuracy: 0.8820 - loss: 0.2801\n",
      "Epoch 6/25\n",
      "82/82 - 0s - 1ms/step - accuracy: 0.8862 - loss: 0.2733\n",
      "Epoch 7/25\n",
      "82/82 - 0s - 1ms/step - accuracy: 0.8850 - loss: 0.2665\n",
      "Epoch 8/25\n",
      "82/82 - 0s - 1ms/step - accuracy: 0.8866 - loss: 0.2608\n",
      "Epoch 9/25\n",
      "82/82 - 0s - 1ms/step - accuracy: 0.8869 - loss: 0.2551\n",
      "Epoch 10/25\n",
      "82/82 - 0s - 1ms/step - accuracy: 0.8900 - loss: 0.2547\n",
      "Epoch 11/25\n",
      "82/82 - 0s - 1ms/step - accuracy: 0.8976 - loss: 0.2496\n",
      "Epoch 12/25\n",
      "82/82 - 0s - 1ms/step - accuracy: 0.8900 - loss: 0.2492\n",
      "Epoch 13/25\n",
      "82/82 - 0s - 1ms/step - accuracy: 0.8908 - loss: 0.2473\n",
      "Epoch 14/25\n",
      "82/82 - 0s - 1ms/step - accuracy: 0.8934 - loss: 0.2442\n",
      "Epoch 15/25\n",
      "82/82 - 0s - 1ms/step - accuracy: 0.8957 - loss: 0.2410\n",
      "Epoch 16/25\n",
      "82/82 - 0s - 1ms/step - accuracy: 0.8946 - loss: 0.2390\n",
      "Epoch 17/25\n",
      "82/82 - 0s - 1ms/step - accuracy: 0.8950 - loss: 0.2379\n",
      "Epoch 18/25\n",
      "82/82 - 0s - 1ms/step - accuracy: 0.8969 - loss: 0.2361\n",
      "Epoch 19/25\n",
      "82/82 - 0s - 1ms/step - accuracy: 0.9022 - loss: 0.2326\n",
      "Epoch 20/25\n",
      "82/82 - 0s - 1ms/step - accuracy: 0.9015 - loss: 0.2329\n",
      "Epoch 21/25\n",
      "82/82 - 0s - 1ms/step - accuracy: 0.8969 - loss: 0.2299\n",
      "Epoch 22/25\n",
      "82/82 - 0s - 1ms/step - accuracy: 0.8969 - loss: 0.2280\n",
      "Epoch 23/25\n",
      "82/82 - 0s - 1ms/step - accuracy: 0.9003 - loss: 0.2258\n",
      "Epoch 24/25\n",
      "82/82 - 0s - 1ms/step - accuracy: 0.9060 - loss: 0.2257\n",
      "Epoch 25/25\n",
      "82/82 - 0s - 1ms/step - accuracy: 0.9030 - loss: 0.2240\n",
      "14/14 - 0s - 10ms/step - accuracy: 0.8481 - loss: 0.3298\n",
      "Loss: 0.3298315107822418, Accuracy: 0.8481308221817017\n"
     ]
    }
   ],
   "source": [
    "# Define the best model offered by Keras Tuner in previous model but with new DataFrame\n",
    "input_features = X_train_scaled.shape[1]\n",
    "best_model = tf.keras.models.Sequential()\n",
    "\n",
    "# Add the first hidden layer\n",
    "best_model.add(tf.keras.layers.Dense(units=30, activation='relu', input_dim=input_features))\n",
    "\n",
    "# Add the second hidden layer\n",
    "best_model.add(tf.keras.layers.Dense(units=12, activation='relu'))\n",
    "\n",
    "# Add the third hidden layer\n",
    "best_model.add(tf.keras.layers.Dense(units=24, activation='relu'))\n",
    "\n",
    "# Add the output layer\n",
    "best_model.add(tf.keras.layers.Dense(units=1, activation='sigmoid'))\n",
    "\n",
    "# Compile the model\n",
    "best_model.compile(loss='binary_crossentropy', optimizer='adam', metrics=['accuracy'])\n",
    "\n",
    "# Train the model with appropriate number of epochs and batch size\n",
    "history = best_model.fit(X_train_scaled, y_train_res, epochs=25, batch_size=32, verbose=2)\n",
    "\n",
    "# Evaluate the model on the test dataset\n",
    "model_loss, model_accuracy = best_model.evaluate(X_test_scaled, y_test, verbose=2)\n",
    "print(f\"Loss: {model_loss}, Accuracy: {model_accuracy}\")"
   ]
  },
  {
   "cell_type": "code",
   "execution_count": 69,
   "metadata": {},
   "outputs": [
    {
     "name": "stdout",
     "output_type": "stream",
     "text": [
      "\u001b[1m82/82\u001b[0m \u001b[32m━━━━━━━━━━━━━━━━━━━━\u001b[0m\u001b[37m\u001b[0m \u001b[1m0s\u001b[0m 800us/step\n",
      "\u001b[1m14/14\u001b[0m \u001b[32m━━━━━━━━━━━━━━━━━━━━\u001b[0m\u001b[37m\u001b[0m \u001b[1m0s\u001b[0m 3ms/step \n",
      "Metrics for Nural Network model_4: \n",
      "acc train: 0.91, acc test: 0.85, precision: 0.7, recall: 0.8\n"
     ]
    }
   ],
   "source": [
    "# Evaluate the model using the function to calculate different metrics for this model\n",
    "# Create predictions using the testing data\n",
    "y_pred_train = best_model.predict(X_train_scaled)>0.5\n",
    "y_pred_test = best_model.predict(X_test_scaled)>0.5\n",
    "\n",
    "# Calling the function to calculate the metrics\n",
    "print(f\"Metrics for Nural Network model_4: \")\n",
    "acc_train_best_model_4, acc_test_best_model_4, p_best_model_4, r_best_model_4 = calculate_metrics(y_train_res, y_test, y_pred_train, y_pred_test)"
   ]
  },
  {
   "cell_type": "markdown",
   "metadata": {},
   "source": [
    "## Comparission the metrics for all the models"
   ]
  },
  {
   "cell_type": "code",
   "execution_count": 81,
   "metadata": {},
   "outputs": [],
   "source": [
    "import matplotlib.pyplot as plt\n",
    "\n",
    "# Define metrics for all models\n",
    "acc_test = [0.84, 0.82, 0.84, acc_test_best_model_4, 0.88]\n",
    "precision = [0.64, 0.62, 0.64, p_best_model_4, 0.76]\n",
    "recall = [0.76, 0.71, 0.76, r_best_model_4, 0.73]\n",
    "title = [\"Logistic Regression\", \"KNN\", \"SVM\", \"DNN\", \"Random Forest\"]\n",
    "colour = [\"blue\", \"orange\", \"green\", \"red\", \"black\"]"
   ]
  },
  {
   "cell_type": "code",
   "execution_count": 82,
   "metadata": {},
   "outputs": [
    {
     "data": {
      "image/png": "[encoded data removed]",
      "text/plain": [
       "<Figure size 1000x600 with 1 Axes>"
      ]
     },
     "metadata": {},
     "output_type": "display_data"
    }
   ],
   "source": [
    "# Plotting accuracy for train and test data\n",
    "plt.figure(figsize=(10, 6))\n",
    "plt.bar(title, acc_test, color=colour, label=\"Test\")\n",
    "plt.grid()\n",
    "plt.title(\"Accuracy_test Comparison for All Models\")\n",
    "plt.xlabel(\"Algorithm Model\")\n",
    "plt.ylabel(\"Accuracy_test\")\n",
    "plt.xticks(rotation=45)\n",
    "plt.show()"
   ]
  },
  {
   "cell_type": "code",
   "execution_count": 83,
   "metadata": {},
   "outputs": [
    {
     "data": {
      "image/png": "[encoded data removed]",
      "text/plain": [
       "<Figure size 1000x600 with 1 Axes>"
      ]
     },
     "metadata": {},
     "output_type": "display_data"
    }
   ],
   "source": [
    "# Plotting precision for all models\n",
    "plt.figure(figsize=(10, 6))\n",
    "plt.bar(title, precision, color=colour)\n",
    "plt.grid()\n",
    "plt.title(\"Precision Comparison for All Models\")\n",
    "plt.xlabel(\"Algorithm Model\")\n",
    "plt.ylabel(\"Precision (for infected class)\")\n",
    "plt.xticks(rotation=45)\n",
    "plt.show()"
   ]
  },
  {
   "cell_type": "code",
   "execution_count": 84,
   "metadata": {
    "scrolled": true
   },
   "outputs": [
    {
     "data": {
      "image/png": "[encoded data removed]",
      "text/plain": [
       "<Figure size 1000x600 with 1 Axes>"
      ]
     },
     "metadata": {},
     "output_type": "display_data"
    }
   ],
   "source": [
    "# Plotting recall for all models\n",
    "plt.figure(figsize=(10, 6))\n",
    "plt.bar(title, recall, color=colour)\n",
    "plt.grid()\n",
    "plt.title(\"Recall Comparison for All Models\")\n",
    "plt.xlabel(\"Algorithm Model\")\n",
    "plt.ylabel(\"Recall(for infected class)\")\n",
    "plt.xticks(rotation=45)\n",
    "plt.show()"
   ]
  },
  {
   "cell_type": "markdown",
   "metadata": {},
   "source": [
    "Overall Conclusion:\n",
    "\n",
    "1. Random Forest provides highest accuracy 88% and precision 76%, and its recall is also reasonably high 73%.\n",
    "   \n",
    "2. Neural Network model in its 4th attempts shows  highest recall 80%, but precision is 70% which is lower than that of Random Forest.  \n",
    "   \n",
    "According to the concept of our medical dataset and the importance of predicting individuals infected with AIDS in order to getting timely treatment, accuracy and recall for the infected class(class 1)  are considered as the most important metrics for choosing the best model in this project. So Neural Network is the best model with an accuracy of 85% and a recall of 80%.\n"
   ]
  },
  {
   "cell_type": "code",
   "execution_count": null,
   "metadata": {},
   "outputs": [],
   "source": []
  }
 ],
 "metadata": {
  "kernelspec": {
   "display_name": "Python 3 (ipykernel)",
   "language": "python",
   "name": "python3"
  },
  "language_info": {
   "codemirror_mode": {
    "name": "ipython",
    "version": 3
   },
   "file_extension": ".py",
   "mimetype": "text/x-python",
   "name": "python",
   "nbconvert_exporter": "python",
   "pygments_lexer": "ipython3",
   "version": "3.10.13"
  }
 },
 "nbformat": 4,
 "nbformat_minor": 4
}
